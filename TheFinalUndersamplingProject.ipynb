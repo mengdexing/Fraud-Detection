{
 "cells": [
  {
   "cell_type": "code",
   "execution_count": 1,
   "metadata": {},
   "outputs": [
    {
     "name": "stderr",
     "output_type": "stream",
     "text": [
      "Using TensorFlow backend.\n"
     ]
    }
   ],
   "source": [
    "# Imported Libraries\n",
    "\n",
    "import numpy as np # linear algebra\n",
    "import pandas as pd # data processing, CSV file I/O (e.g. pd.read_csv)\n",
    "import tensorflow as tf\n",
    "import matplotlib.pyplot as plt\n",
    "import seaborn as sns\n",
    "from sklearn.manifold import TSNE\n",
    "from sklearn.decomposition import PCA, TruncatedSVD\n",
    "import matplotlib.patches as mpatches\n",
    "import time\n",
    "\n",
    "# Classifier Libraries\n",
    "from sklearn.linear_model import LogisticRegression\n",
    "from sklearn.svm import SVC\n",
    "from sklearn.neighbors import KNeighborsClassifier\n",
    "from sklearn.tree import DecisionTreeClassifier\n",
    "from sklearn.ensemble import RandomForestClassifier\n",
    "import collections\n",
    "\n",
    "# Other Libraries\n",
    "from imblearn.datasets import fetch_datasets\n",
    "from sklearn.model_selection import train_test_split\n",
    "from sklearn.pipeline import make_pipeline\n",
    "from imblearn.pipeline import make_pipeline as imbalanced_make_pipeline\n",
    "from imblearn.over_sampling import SMOTE\n",
    "from imblearn.under_sampling import NearMiss\n",
    "from imblearn.metrics import classification_report_imbalanced\n",
    "from sklearn.metrics import precision_score, recall_score, f1_score, roc_auc_score, accuracy_score, classification_report\n",
    "from collections import Counter\n",
    "from sklearn.model_selection import KFold, StratifiedKFold\n",
    "from sklearn import model_selection\n",
    "import warnings\n",
    "warnings.filterwarnings(\"ignore\")\n",
    "\n",
    "from keras.models import Sequential\n",
    "from keras.layers import Dense\n",
    "from keras.layers import Dropout\n",
    "import tensorflow as ts"
   ]
  },
  {
   "cell_type": "markdown",
   "metadata": {},
   "source": [
    "# Preparing Data"
   ]
  },
  {
   "cell_type": "code",
   "execution_count": 2,
   "metadata": {},
   "outputs": [
    {
     "data": {
      "text/html": [
       "<div>\n",
       "<style scoped>\n",
       "    .dataframe tbody tr th:only-of-type {\n",
       "        vertical-align: middle;\n",
       "    }\n",
       "\n",
       "    .dataframe tbody tr th {\n",
       "        vertical-align: top;\n",
       "    }\n",
       "\n",
       "    .dataframe thead th {\n",
       "        text-align: right;\n",
       "    }\n",
       "</style>\n",
       "<table border=\"1\" class=\"dataframe\">\n",
       "  <thead>\n",
       "    <tr style=\"text-align: right;\">\n",
       "      <th></th>\n",
       "      <th>Time</th>\n",
       "      <th>V1</th>\n",
       "      <th>V2</th>\n",
       "      <th>V3</th>\n",
       "      <th>V4</th>\n",
       "      <th>V5</th>\n",
       "      <th>V6</th>\n",
       "      <th>V7</th>\n",
       "      <th>V8</th>\n",
       "      <th>V9</th>\n",
       "      <th>...</th>\n",
       "      <th>V21</th>\n",
       "      <th>V22</th>\n",
       "      <th>V23</th>\n",
       "      <th>V24</th>\n",
       "      <th>V25</th>\n",
       "      <th>V26</th>\n",
       "      <th>V27</th>\n",
       "      <th>V28</th>\n",
       "      <th>Amount</th>\n",
       "      <th>Class</th>\n",
       "    </tr>\n",
       "  </thead>\n",
       "  <tbody>\n",
       "    <tr>\n",
       "      <th>0</th>\n",
       "      <td>0.0</td>\n",
       "      <td>-1.359807</td>\n",
       "      <td>-0.072781</td>\n",
       "      <td>2.536347</td>\n",
       "      <td>1.378155</td>\n",
       "      <td>-0.338321</td>\n",
       "      <td>0.462388</td>\n",
       "      <td>0.239599</td>\n",
       "      <td>0.098698</td>\n",
       "      <td>0.363787</td>\n",
       "      <td>...</td>\n",
       "      <td>-0.018307</td>\n",
       "      <td>0.277838</td>\n",
       "      <td>-0.110474</td>\n",
       "      <td>0.066928</td>\n",
       "      <td>0.128539</td>\n",
       "      <td>-0.189115</td>\n",
       "      <td>0.133558</td>\n",
       "      <td>-0.021053</td>\n",
       "      <td>149.62</td>\n",
       "      <td>0</td>\n",
       "    </tr>\n",
       "    <tr>\n",
       "      <th>1</th>\n",
       "      <td>0.0</td>\n",
       "      <td>1.191857</td>\n",
       "      <td>0.266151</td>\n",
       "      <td>0.166480</td>\n",
       "      <td>0.448154</td>\n",
       "      <td>0.060018</td>\n",
       "      <td>-0.082361</td>\n",
       "      <td>-0.078803</td>\n",
       "      <td>0.085102</td>\n",
       "      <td>-0.255425</td>\n",
       "      <td>...</td>\n",
       "      <td>-0.225775</td>\n",
       "      <td>-0.638672</td>\n",
       "      <td>0.101288</td>\n",
       "      <td>-0.339846</td>\n",
       "      <td>0.167170</td>\n",
       "      <td>0.125895</td>\n",
       "      <td>-0.008983</td>\n",
       "      <td>0.014724</td>\n",
       "      <td>2.69</td>\n",
       "      <td>0</td>\n",
       "    </tr>\n",
       "    <tr>\n",
       "      <th>2</th>\n",
       "      <td>1.0</td>\n",
       "      <td>-1.358354</td>\n",
       "      <td>-1.340163</td>\n",
       "      <td>1.773209</td>\n",
       "      <td>0.379780</td>\n",
       "      <td>-0.503198</td>\n",
       "      <td>1.800499</td>\n",
       "      <td>0.791461</td>\n",
       "      <td>0.247676</td>\n",
       "      <td>-1.514654</td>\n",
       "      <td>...</td>\n",
       "      <td>0.247998</td>\n",
       "      <td>0.771679</td>\n",
       "      <td>0.909412</td>\n",
       "      <td>-0.689281</td>\n",
       "      <td>-0.327642</td>\n",
       "      <td>-0.139097</td>\n",
       "      <td>-0.055353</td>\n",
       "      <td>-0.059752</td>\n",
       "      <td>378.66</td>\n",
       "      <td>0</td>\n",
       "    </tr>\n",
       "    <tr>\n",
       "      <th>3</th>\n",
       "      <td>1.0</td>\n",
       "      <td>-0.966272</td>\n",
       "      <td>-0.185226</td>\n",
       "      <td>1.792993</td>\n",
       "      <td>-0.863291</td>\n",
       "      <td>-0.010309</td>\n",
       "      <td>1.247203</td>\n",
       "      <td>0.237609</td>\n",
       "      <td>0.377436</td>\n",
       "      <td>-1.387024</td>\n",
       "      <td>...</td>\n",
       "      <td>-0.108300</td>\n",
       "      <td>0.005274</td>\n",
       "      <td>-0.190321</td>\n",
       "      <td>-1.175575</td>\n",
       "      <td>0.647376</td>\n",
       "      <td>-0.221929</td>\n",
       "      <td>0.062723</td>\n",
       "      <td>0.061458</td>\n",
       "      <td>123.50</td>\n",
       "      <td>0</td>\n",
       "    </tr>\n",
       "    <tr>\n",
       "      <th>4</th>\n",
       "      <td>2.0</td>\n",
       "      <td>-1.158233</td>\n",
       "      <td>0.877737</td>\n",
       "      <td>1.548718</td>\n",
       "      <td>0.403034</td>\n",
       "      <td>-0.407193</td>\n",
       "      <td>0.095921</td>\n",
       "      <td>0.592941</td>\n",
       "      <td>-0.270533</td>\n",
       "      <td>0.817739</td>\n",
       "      <td>...</td>\n",
       "      <td>-0.009431</td>\n",
       "      <td>0.798278</td>\n",
       "      <td>-0.137458</td>\n",
       "      <td>0.141267</td>\n",
       "      <td>-0.206010</td>\n",
       "      <td>0.502292</td>\n",
       "      <td>0.219422</td>\n",
       "      <td>0.215153</td>\n",
       "      <td>69.99</td>\n",
       "      <td>0</td>\n",
       "    </tr>\n",
       "  </tbody>\n",
       "</table>\n",
       "<p>5 rows × 31 columns</p>\n",
       "</div>"
      ],
      "text/plain": [
       "   Time        V1        V2        V3        V4        V5        V6        V7  \\\n",
       "0   0.0 -1.359807 -0.072781  2.536347  1.378155 -0.338321  0.462388  0.239599   \n",
       "1   0.0  1.191857  0.266151  0.166480  0.448154  0.060018 -0.082361 -0.078803   \n",
       "2   1.0 -1.358354 -1.340163  1.773209  0.379780 -0.503198  1.800499  0.791461   \n",
       "3   1.0 -0.966272 -0.185226  1.792993 -0.863291 -0.010309  1.247203  0.237609   \n",
       "4   2.0 -1.158233  0.877737  1.548718  0.403034 -0.407193  0.095921  0.592941   \n",
       "\n",
       "         V8        V9  ...         V21       V22       V23       V24  \\\n",
       "0  0.098698  0.363787  ...   -0.018307  0.277838 -0.110474  0.066928   \n",
       "1  0.085102 -0.255425  ...   -0.225775 -0.638672  0.101288 -0.339846   \n",
       "2  0.247676 -1.514654  ...    0.247998  0.771679  0.909412 -0.689281   \n",
       "3  0.377436 -1.387024  ...   -0.108300  0.005274 -0.190321 -1.175575   \n",
       "4 -0.270533  0.817739  ...   -0.009431  0.798278 -0.137458  0.141267   \n",
       "\n",
       "        V25       V26       V27       V28  Amount  Class  \n",
       "0  0.128539 -0.189115  0.133558 -0.021053  149.62      0  \n",
       "1  0.167170  0.125895 -0.008983  0.014724    2.69      0  \n",
       "2 -0.327642 -0.139097 -0.055353 -0.059752  378.66      0  \n",
       "3  0.647376 -0.221929  0.062723  0.061458  123.50      0  \n",
       "4 -0.206010  0.502292  0.219422  0.215153   69.99      0  \n",
       "\n",
       "[5 rows x 31 columns]"
      ]
     },
     "execution_count": 2,
     "metadata": {},
     "output_type": "execute_result"
    }
   ],
   "source": [
    "df = pd.read_csv('creditcard.csv')\n",
    "df.head()"
   ]
  },
  {
   "cell_type": "code",
   "execution_count": 3,
   "metadata": {},
   "outputs": [],
   "source": [
    "df = df.sample(frac=1)\n",
    "\n",
    "# amount of fraud classes 492 rows.\n",
    "fraud_df = df.loc[df['Class'] == 1]\n",
    "non_fraud_df = df.loc[df['Class'] == 0][:492]\n",
    "\n",
    "normal_distributed_df = pd.concat([fraud_df, non_fraud_df])\n",
    "\n",
    "# Shuffle dataframe rows\n",
    "new_df = normal_distributed_df.sample(frac=1, random_state=42)"
   ]
  },
  {
   "cell_type": "code",
   "execution_count": 4,
   "metadata": {},
   "outputs": [
    {
     "data": {
      "text/html": [
       "<div>\n",
       "<style scoped>\n",
       "    .dataframe tbody tr th:only-of-type {\n",
       "        vertical-align: middle;\n",
       "    }\n",
       "\n",
       "    .dataframe tbody tr th {\n",
       "        vertical-align: top;\n",
       "    }\n",
       "\n",
       "    .dataframe thead th {\n",
       "        text-align: right;\n",
       "    }\n",
       "</style>\n",
       "<table border=\"1\" class=\"dataframe\">\n",
       "  <thead>\n",
       "    <tr style=\"text-align: right;\">\n",
       "      <th></th>\n",
       "      <th>Time</th>\n",
       "      <th>V1</th>\n",
       "      <th>V2</th>\n",
       "      <th>V3</th>\n",
       "      <th>V4</th>\n",
       "      <th>V5</th>\n",
       "      <th>V6</th>\n",
       "      <th>V7</th>\n",
       "      <th>V8</th>\n",
       "      <th>V9</th>\n",
       "      <th>...</th>\n",
       "      <th>V21</th>\n",
       "      <th>V22</th>\n",
       "      <th>V23</th>\n",
       "      <th>V24</th>\n",
       "      <th>V25</th>\n",
       "      <th>V26</th>\n",
       "      <th>V27</th>\n",
       "      <th>V28</th>\n",
       "      <th>Amount</th>\n",
       "      <th>Class</th>\n",
       "    </tr>\n",
       "  </thead>\n",
       "  <tbody>\n",
       "    <tr>\n",
       "      <th>120036</th>\n",
       "      <td>75688.0</td>\n",
       "      <td>-0.863590</td>\n",
       "      <td>1.196813</td>\n",
       "      <td>0.809566</td>\n",
       "      <td>-0.143447</td>\n",
       "      <td>-0.174497</td>\n",
       "      <td>-0.574433</td>\n",
       "      <td>0.275462</td>\n",
       "      <td>0.446402</td>\n",
       "      <td>-0.102914</td>\n",
       "      <td>...</td>\n",
       "      <td>-0.299118</td>\n",
       "      <td>-0.841071</td>\n",
       "      <td>-0.013508</td>\n",
       "      <td>-0.116623</td>\n",
       "      <td>-0.177824</td>\n",
       "      <td>0.060970</td>\n",
       "      <td>0.044363</td>\n",
       "      <td>-0.147051</td>\n",
       "      <td>8.94</td>\n",
       "      <td>0</td>\n",
       "    </tr>\n",
       "    <tr>\n",
       "      <th>94218</th>\n",
       "      <td>64785.0</td>\n",
       "      <td>-8.744415</td>\n",
       "      <td>-3.420468</td>\n",
       "      <td>-4.850575</td>\n",
       "      <td>6.606846</td>\n",
       "      <td>-2.800546</td>\n",
       "      <td>0.105512</td>\n",
       "      <td>-3.269801</td>\n",
       "      <td>0.940378</td>\n",
       "      <td>-2.558691</td>\n",
       "      <td>...</td>\n",
       "      <td>0.102913</td>\n",
       "      <td>0.311626</td>\n",
       "      <td>-4.129195</td>\n",
       "      <td>0.034639</td>\n",
       "      <td>-1.133631</td>\n",
       "      <td>0.272265</td>\n",
       "      <td>1.841307</td>\n",
       "      <td>-1.796363</td>\n",
       "      <td>720.38</td>\n",
       "      <td>1</td>\n",
       "    </tr>\n",
       "    <tr>\n",
       "      <th>81894</th>\n",
       "      <td>59149.0</td>\n",
       "      <td>-2.043387</td>\n",
       "      <td>0.209882</td>\n",
       "      <td>-2.057269</td>\n",
       "      <td>-0.308584</td>\n",
       "      <td>-6.945621</td>\n",
       "      <td>2.362735</td>\n",
       "      <td>4.723844</td>\n",
       "      <td>0.010156</td>\n",
       "      <td>-2.064412</td>\n",
       "      <td>...</td>\n",
       "      <td>-0.498607</td>\n",
       "      <td>-0.313667</td>\n",
       "      <td>0.380530</td>\n",
       "      <td>0.522567</td>\n",
       "      <td>-0.378346</td>\n",
       "      <td>1.108289</td>\n",
       "      <td>0.256636</td>\n",
       "      <td>-0.528236</td>\n",
       "      <td>1231.00</td>\n",
       "      <td>0</td>\n",
       "    </tr>\n",
       "    <tr>\n",
       "      <th>229730</th>\n",
       "      <td>146026.0</td>\n",
       "      <td>1.894036</td>\n",
       "      <td>1.905806</td>\n",
       "      <td>-3.515730</td>\n",
       "      <td>4.508913</td>\n",
       "      <td>2.044466</td>\n",
       "      <td>-1.420468</td>\n",
       "      <td>1.057480</td>\n",
       "      <td>-0.281157</td>\n",
       "      <td>-1.832604</td>\n",
       "      <td>...</td>\n",
       "      <td>-0.144713</td>\n",
       "      <td>-0.310108</td>\n",
       "      <td>-0.101530</td>\n",
       "      <td>-0.414960</td>\n",
       "      <td>0.376597</td>\n",
       "      <td>0.150778</td>\n",
       "      <td>-0.013712</td>\n",
       "      <td>0.048084</td>\n",
       "      <td>2.22</td>\n",
       "      <td>1</td>\n",
       "    </tr>\n",
       "    <tr>\n",
       "      <th>68320</th>\n",
       "      <td>52934.0</td>\n",
       "      <td>1.036639</td>\n",
       "      <td>0.407227</td>\n",
       "      <td>0.757706</td>\n",
       "      <td>3.161821</td>\n",
       "      <td>-0.568122</td>\n",
       "      <td>0.202181</td>\n",
       "      <td>-0.689804</td>\n",
       "      <td>0.411380</td>\n",
       "      <td>0.336769</td>\n",
       "      <td>...</td>\n",
       "      <td>-0.050108</td>\n",
       "      <td>0.123761</td>\n",
       "      <td>-0.132568</td>\n",
       "      <td>0.350231</td>\n",
       "      <td>0.507701</td>\n",
       "      <td>0.189621</td>\n",
       "      <td>0.061016</td>\n",
       "      <td>0.063141</td>\n",
       "      <td>0.76</td>\n",
       "      <td>1</td>\n",
       "    </tr>\n",
       "  </tbody>\n",
       "</table>\n",
       "<p>5 rows × 31 columns</p>\n",
       "</div>"
      ],
      "text/plain": [
       "            Time        V1        V2        V3        V4        V5        V6  \\\n",
       "120036   75688.0 -0.863590  1.196813  0.809566 -0.143447 -0.174497 -0.574433   \n",
       "94218    64785.0 -8.744415 -3.420468 -4.850575  6.606846 -2.800546  0.105512   \n",
       "81894    59149.0 -2.043387  0.209882 -2.057269 -0.308584 -6.945621  2.362735   \n",
       "229730  146026.0  1.894036  1.905806 -3.515730  4.508913  2.044466 -1.420468   \n",
       "68320    52934.0  1.036639  0.407227  0.757706  3.161821 -0.568122  0.202181   \n",
       "\n",
       "              V7        V8        V9  ...         V21       V22       V23  \\\n",
       "120036  0.275462  0.446402 -0.102914  ...   -0.299118 -0.841071 -0.013508   \n",
       "94218  -3.269801  0.940378 -2.558691  ...    0.102913  0.311626 -4.129195   \n",
       "81894   4.723844  0.010156 -2.064412  ...   -0.498607 -0.313667  0.380530   \n",
       "229730  1.057480 -0.281157 -1.832604  ...   -0.144713 -0.310108 -0.101530   \n",
       "68320  -0.689804  0.411380  0.336769  ...   -0.050108  0.123761 -0.132568   \n",
       "\n",
       "             V24       V25       V26       V27       V28   Amount  Class  \n",
       "120036 -0.116623 -0.177824  0.060970  0.044363 -0.147051     8.94      0  \n",
       "94218   0.034639 -1.133631  0.272265  1.841307 -1.796363   720.38      1  \n",
       "81894   0.522567 -0.378346  1.108289  0.256636 -0.528236  1231.00      0  \n",
       "229730 -0.414960  0.376597  0.150778 -0.013712  0.048084     2.22      1  \n",
       "68320   0.350231  0.507701  0.189621  0.061016  0.063141     0.76      1  \n",
       "\n",
       "[5 rows x 31 columns]"
      ]
     },
     "execution_count": 4,
     "metadata": {},
     "output_type": "execute_result"
    }
   ],
   "source": [
    "new_df.head()"
   ]
  },
  {
   "cell_type": "code",
   "execution_count": 5,
   "metadata": {},
   "outputs": [
    {
     "data": {
      "text/plain": [
       "(984, 31)"
      ]
     },
     "execution_count": 5,
     "metadata": {},
     "output_type": "execute_result"
    }
   ],
   "source": [
    "new_df.shape"
   ]
  },
  {
   "cell_type": "markdown",
   "metadata": {},
   "source": [
    "# Feature Selection"
   ]
  },
  {
   "cell_type": "code",
   "execution_count": 6,
   "metadata": {},
   "outputs": [],
   "source": [
    "corr_matrix = new_df.corr()"
   ]
  },
  {
   "cell_type": "code",
   "execution_count": 7,
   "metadata": {
    "scrolled": true
   },
   "outputs": [
    {
     "data": {
      "image/png": "[encoded data removed]",
      "text/plain": [
       "<Figure size 432x288 with 2 Axes>"
      ]
     },
     "metadata": {
      "needs_background": "light"
     },
     "output_type": "display_data"
    }
   ],
   "source": [
    "ax = sns.heatmap(corr_matrix,vmin=-1, vmax=1,cmap=\"YlGnBu\")"
   ]
  },
  {
   "cell_type": "code",
   "execution_count": 8,
   "metadata": {},
   "outputs": [
    {
     "data": {
      "text/plain": [
       "Class     1.000000\n",
       "V4        0.711204\n",
       "V11       0.690960\n",
       "V2        0.494038\n",
       "V19       0.236554\n",
       "V20       0.199725\n",
       "V21       0.119516\n",
       "V28       0.096401\n",
       "Amount    0.094566\n",
       "V27       0.084840\n",
       "V8        0.059604\n",
       "V25       0.059484\n",
       "V26       0.017359\n",
       "V22       0.000230\n",
       "V13      -0.024909\n",
       "V23      -0.025916\n",
       "V15      -0.030434\n",
       "V24      -0.087906\n",
       "Time     -0.210222\n",
       "V5       -0.376404\n",
       "V6       -0.421465\n",
       "V1       -0.449729\n",
       "V18      -0.472304\n",
       "V7       -0.479960\n",
       "V17      -0.558633\n",
       "V9       -0.558925\n",
       "V3       -0.565398\n",
       "V16      -0.592254\n",
       "V10      -0.629344\n",
       "V12      -0.683446\n",
       "V14      -0.751528\n",
       "Name: Class, dtype: float64"
      ]
     },
     "execution_count": 8,
     "metadata": {},
     "output_type": "execute_result"
    }
   ],
   "source": [
    "corr_matrix['Class'].sort_values(ascending=False)"
   ]
  },
  {
   "cell_type": "code",
   "execution_count": 9,
   "metadata": {},
   "outputs": [],
   "source": [
    "\n",
    "droplist = ['V8', 'V13', 'V15', 'V20', 'V21', 'V22', 'V23', 'V24', 'V25' , 'V26', 'V27', 'V28']\n",
    "data = new_df.drop(droplist, axis = 1)"
   ]
  },
  {
   "cell_type": "code",
   "execution_count": 10,
   "metadata": {},
   "outputs": [],
   "source": [
    "from sklearn.preprocessing import StandardScaler\n",
    "\n",
    "col = ['Amount','Time']\n",
    "sc =StandardScaler()\n",
    "data[col] =sc.fit_transform(data[col])\n"
   ]
  },
  {
   "cell_type": "markdown",
   "metadata": {},
   "source": [
    "# preparing present data"
   ]
  },
  {
   "cell_type": "code",
   "execution_count": 11,
   "metadata": {},
   "outputs": [],
   "source": [
    "fraud_for_pre = fraud_df[:5]\n",
    "non_fraud_for_pre = non_fraud_df[:5]\n",
    "present_data = pd.concat([fraud_for_pre, non_fraud_for_pre])"
   ]
  },
  {
   "cell_type": "code",
   "execution_count": 12,
   "metadata": {},
   "outputs": [],
   "source": [
    "present_data[col] = sc.fit_transform(present_data[col])"
   ]
  },
  {
   "cell_type": "code",
   "execution_count": 13,
   "metadata": {},
   "outputs": [],
   "source": [
    "present_data = present_data.drop(droplist, axis = 1)"
   ]
  },
  {
   "cell_type": "code",
   "execution_count": 14,
   "metadata": {},
   "outputs": [],
   "source": [
    "present_data_X = present_data.iloc[:, :-1]\n",
    "present_data_y = present_data.iloc[:, -1]"
   ]
  },
  {
   "cell_type": "code",
   "execution_count": 15,
   "metadata": {},
   "outputs": [],
   "source": [
    "X = data.drop(['Class'], axis=1)\n",
    "y = data['Class']"
   ]
  },
  {
   "cell_type": "code",
   "execution_count": 16,
   "metadata": {},
   "outputs": [],
   "source": [
    "from sklearn.model_selection import train_test_split\n",
    "X_train, X_test, y_train, y_test = train_test_split(X, y, test_size=0.2)"
   ]
  },
  {
   "cell_type": "markdown",
   "metadata": {},
   "source": [
    "# Model Training"
   ]
  },
  {
   "cell_type": "markdown",
   "metadata": {},
   "source": [
    "### Logistic Regression"
   ]
  },
  {
   "cell_type": "code",
   "execution_count": 17,
   "metadata": {},
   "outputs": [],
   "source": [
    "# Logistic Regression\n",
    "classifier_logistic = LogisticRegression()"
   ]
  },
  {
   "cell_type": "code",
   "execution_count": 18,
   "metadata": {
    "scrolled": true
   },
   "outputs": [
    {
     "data": {
      "text/plain": [
       "LogisticRegression(C=1.0, class_weight=None, dual=False, fit_intercept=True,\n",
       "          intercept_scaling=1, max_iter=100, multi_class='warn',\n",
       "          n_jobs=None, penalty='l2', random_state=None, solver='warn',\n",
       "          tol=0.0001, verbose=0, warm_start=False)"
      ]
     },
     "execution_count": 18,
     "metadata": {},
     "output_type": "execute_result"
    }
   ],
   "source": [
    "# Train the model\n",
    "classifier_logistic.fit(X_train, y_train)"
   ]
  },
  {
   "cell_type": "code",
   "execution_count": 19,
   "metadata": {},
   "outputs": [
    {
     "data": {
      "text/plain": [
       "0.9441624365482234"
      ]
     },
     "execution_count": 19,
     "metadata": {},
     "output_type": "execute_result"
    }
   ],
   "source": [
    "# Prediction of test data\n",
    "classifier_logistic.predict(X_test)\n",
    "# Accuracy of test data\n",
    "classifier_logistic.score(X_test, y_test)"
   ]
  },
  {
   "cell_type": "markdown",
   "metadata": {},
   "source": [
    "### Random Forest"
   ]
  },
  {
   "cell_type": "code",
   "execution_count": 20,
   "metadata": {},
   "outputs": [],
   "source": [
    "# Random Forest\n",
    "classifier_RF = RandomForestClassifier()"
   ]
  },
  {
   "cell_type": "code",
   "execution_count": 21,
   "metadata": {},
   "outputs": [
    {
     "data": {
      "text/plain": [
       "RandomForestClassifier(bootstrap=True, class_weight=None, criterion='gini',\n",
       "            max_depth=None, max_features='auto', max_leaf_nodes=None,\n",
       "            min_impurity_decrease=0.0, min_impurity_split=None,\n",
       "            min_samples_leaf=1, min_samples_split=2,\n",
       "            min_weight_fraction_leaf=0.0, n_estimators=10, n_jobs=None,\n",
       "            oob_score=False, random_state=None, verbose=0,\n",
       "            warm_start=False)"
      ]
     },
     "execution_count": 21,
     "metadata": {},
     "output_type": "execute_result"
    }
   ],
   "source": [
    "# Train the model\n",
    "classifier_RF.fit(X_train, y_train)"
   ]
  },
  {
   "cell_type": "code",
   "execution_count": 22,
   "metadata": {},
   "outputs": [
    {
     "data": {
      "text/plain": [
       "0.9289340101522843"
      ]
     },
     "execution_count": 22,
     "metadata": {},
     "output_type": "execute_result"
    }
   ],
   "source": [
    "# Prediction of test data\n",
    "classifier_RF.predict(X_test)\n",
    "# Accuracy of test data\n",
    "classifier_RF.score(X_test, y_test)"
   ]
  },
  {
   "cell_type": "markdown",
   "metadata": {},
   "source": [
    "### KNN"
   ]
  },
  {
   "cell_type": "code",
   "execution_count": 23,
   "metadata": {},
   "outputs": [],
   "source": [
    "# K Nearest Neighbors\n",
    "classifier_KNN = KNeighborsClassifier()"
   ]
  },
  {
   "cell_type": "code",
   "execution_count": 24,
   "metadata": {},
   "outputs": [
    {
     "data": {
      "text/plain": [
       "KNeighborsClassifier(algorithm='auto', leaf_size=30, metric='minkowski',\n",
       "           metric_params=None, n_jobs=None, n_neighbors=5, p=2,\n",
       "           weights='uniform')"
      ]
     },
     "execution_count": 24,
     "metadata": {},
     "output_type": "execute_result"
    }
   ],
   "source": [
    "# Train the model\n",
    "classifier_KNN.fit(X_train, y_train)"
   ]
  },
  {
   "cell_type": "code",
   "execution_count": 25,
   "metadata": {},
   "outputs": [
    {
     "data": {
      "text/plain": [
       "0.9289340101522843"
      ]
     },
     "execution_count": 25,
     "metadata": {},
     "output_type": "execute_result"
    }
   ],
   "source": [
    "# Prediction of test data\n",
    "classifier_KNN.predict(X_test)\n",
    "# Accuracy of test data\n",
    "classifier_KNN.score(X_test, y_test)"
   ]
  },
  {
   "cell_type": "markdown",
   "metadata": {},
   "source": [
    "### Use 5-fold Cross Validation to get the accuracy for different models"
   ]
  },
  {
   "cell_type": "code",
   "execution_count": 26,
   "metadata": {},
   "outputs": [
    {
     "name": "stdout",
     "output_type": "stream",
     "text": [
      "Model accuracy of Logistic Regression is: 0.947\n",
      "Model accuracy of KNN is: 0.940\n",
      "Model accuracy of Random Forest is: 0.938\n"
     ]
    }
   ],
   "source": [
    "model_names = ['Logistic Regression','KNN','Random Forest']\n",
    "model_list = [classifier_logistic, classifier_KNN, classifier_RF]\n",
    "count = 0\n",
    "\n",
    "for classifier in model_list:\n",
    "    cv_score = model_selection.cross_val_score(classifier, X_train, y_train, cv=5)\n",
    "    # cprint(cv_score)\n",
    "    print('Model accuracy of %s is: %.3f'%(model_names[count],cv_score.mean()))\n",
    "    count += 1"
   ]
  },
  {
   "cell_type": "markdown",
   "metadata": {},
   "source": [
    "### NN"
   ]
  },
  {
   "cell_type": "code",
   "execution_count": 27,
   "metadata": {},
   "outputs": [
    {
     "name": "stdout",
     "output_type": "stream",
     "text": [
      "WARNING:tensorflow:From /anaconda3/lib/python3.7/site-packages/tensorflow/python/framework/op_def_library.py:263: colocate_with (from tensorflow.python.framework.ops) is deprecated and will be removed in a future version.\n",
      "Instructions for updating:\n",
      "Colocations handled automatically by placer.\n",
      "WARNING:tensorflow:From /anaconda3/lib/python3.7/site-packages/keras/backend/tensorflow_backend.py:3445: calling dropout (from tensorflow.python.ops.nn_ops) with keep_prob is deprecated and will be removed in a future version.\n",
      "Instructions for updating:\n",
      "Please use `rate` instead of `keep_prob`. Rate should be set to `rate = 1 - keep_prob`.\n",
      "WARNING:tensorflow:From /anaconda3/lib/python3.7/site-packages/tensorflow/python/ops/math_ops.py:3066: to_int32 (from tensorflow.python.ops.math_ops) is deprecated and will be removed in a future version.\n",
      "Instructions for updating:\n",
      "Use tf.cast instead.\n",
      "Epoch 1/500\n",
      "787/787 [==============================] - 0s 332us/step - loss: 0.6408 - acc: 0.6150\n",
      "Epoch 2/500\n",
      "787/787 [==============================] - 0s 38us/step - loss: 0.2705 - acc: 0.6976\n",
      "Epoch 3/500\n",
      "787/787 [==============================] - 0s 39us/step - loss: 0.2066 - acc: 0.7370\n",
      "Epoch 4/500\n",
      "787/787 [==============================] - 0s 39us/step - loss: 0.1747 - acc: 0.7713\n",
      "Epoch 5/500\n",
      "787/787 [==============================] - 0s 38us/step - loss: 0.1667 - acc: 0.7789\n",
      "Epoch 6/500\n",
      "787/787 [==============================] - 0s 37us/step - loss: 0.1509 - acc: 0.8158\n",
      "Epoch 7/500\n",
      "787/787 [==============================] - 0s 35us/step - loss: 0.1249 - acc: 0.8361\n",
      "Epoch 8/500\n",
      "787/787 [==============================] - 0s 35us/step - loss: 0.1148 - acc: 0.8475\n",
      "Epoch 9/500\n",
      "787/787 [==============================] - 0s 35us/step - loss: 0.1023 - acc: 0.8666\n",
      "Epoch 10/500\n",
      "787/787 [==============================] - 0s 38us/step - loss: 0.0936 - acc: 0.8882\n",
      "Epoch 11/500\n",
      "787/787 [==============================] - 0s 37us/step - loss: 0.0897 - acc: 0.8920\n",
      "Epoch 12/500\n",
      "787/787 [==============================] - 0s 36us/step - loss: 0.0888 - acc: 0.8933\n",
      "Epoch 13/500\n",
      "787/787 [==============================] - 0s 35us/step - loss: 0.0841 - acc: 0.9085\n",
      "Epoch 14/500\n",
      "787/787 [==============================] - 0s 38us/step - loss: 0.0764 - acc: 0.9111\n",
      "Epoch 15/500\n",
      "787/787 [==============================] - 0s 39us/step - loss: 0.0709 - acc: 0.9263\n",
      "Epoch 16/500\n",
      "787/787 [==============================] - 0s 34us/step - loss: 0.0708 - acc: 0.9314\n",
      "Epoch 17/500\n",
      "787/787 [==============================] - 0s 39us/step - loss: 0.0684 - acc: 0.9377\n",
      "Epoch 18/500\n",
      "787/787 [==============================] - 0s 38us/step - loss: 0.0638 - acc: 0.9377\n",
      "Epoch 19/500\n",
      "787/787 [==============================] - 0s 39us/step - loss: 0.0636 - acc: 0.9416\n",
      "Epoch 20/500\n",
      "787/787 [==============================] - 0s 37us/step - loss: 0.0618 - acc: 0.9339\n",
      "Epoch 21/500\n",
      "787/787 [==============================] - 0s 38us/step - loss: 0.0539 - acc: 0.9466\n",
      "Epoch 22/500\n",
      "787/787 [==============================] - 0s 39us/step - loss: 0.0526 - acc: 0.9530\n",
      "Epoch 23/500\n",
      "787/787 [==============================] - 0s 37us/step - loss: 0.0510 - acc: 0.9504\n",
      "Epoch 24/500\n",
      "787/787 [==============================] - 0s 42us/step - loss: 0.0514 - acc: 0.9530\n",
      "Epoch 25/500\n",
      "787/787 [==============================] - 0s 40us/step - loss: 0.0478 - acc: 0.9555\n",
      "Epoch 26/500\n",
      "787/787 [==============================] - 0s 38us/step - loss: 0.0497 - acc: 0.9593\n",
      "Epoch 27/500\n",
      "787/787 [==============================] - 0s 37us/step - loss: 0.0447 - acc: 0.9657\n",
      "Epoch 28/500\n",
      "787/787 [==============================] - 0s 38us/step - loss: 0.0392 - acc: 0.9695\n",
      "Epoch 29/500\n",
      "787/787 [==============================] - 0s 36us/step - loss: 0.0406 - acc: 0.9632\n",
      "Epoch 30/500\n",
      "787/787 [==============================] - 0s 43us/step - loss: 0.0398 - acc: 0.9695\n",
      "Epoch 31/500\n",
      "787/787 [==============================] - 0s 36us/step - loss: 0.0344 - acc: 0.9720\n",
      "Epoch 32/500\n",
      "787/787 [==============================] - 0s 37us/step - loss: 0.0352 - acc: 0.9784\n",
      "Epoch 33/500\n",
      "787/787 [==============================] - 0s 38us/step - loss: 0.0369 - acc: 0.9682\n",
      "Epoch 34/500\n",
      "787/787 [==============================] - 0s 38us/step - loss: 0.0378 - acc: 0.9657\n",
      "Epoch 35/500\n",
      "787/787 [==============================] - 0s 38us/step - loss: 0.0328 - acc: 0.9759\n",
      "Epoch 36/500\n",
      "787/787 [==============================] - 0s 37us/step - loss: 0.0333 - acc: 0.9708\n",
      "Epoch 37/500\n",
      "787/787 [==============================] - 0s 34us/step - loss: 0.0318 - acc: 0.9746\n",
      "Epoch 38/500\n",
      "787/787 [==============================] - 0s 36us/step - loss: 0.0328 - acc: 0.9759\n",
      "Epoch 39/500\n",
      "787/787 [==============================] - 0s 36us/step - loss: 0.0320 - acc: 0.9682\n",
      "Epoch 40/500\n",
      "787/787 [==============================] - 0s 38us/step - loss: 0.0309 - acc: 0.9733\n",
      "Epoch 41/500\n",
      "787/787 [==============================] - 0s 39us/step - loss: 0.0274 - acc: 0.9797\n",
      "Epoch 42/500\n",
      "787/787 [==============================] - 0s 36us/step - loss: 0.0257 - acc: 0.9822\n",
      "Epoch 43/500\n",
      "787/787 [==============================] - 0s 37us/step - loss: 0.0274 - acc: 0.9771\n",
      "Epoch 44/500\n",
      "787/787 [==============================] - 0s 33us/step - loss: 0.0290 - acc: 0.9797\n",
      "Epoch 45/500\n",
      "787/787 [==============================] - 0s 40us/step - loss: 0.0237 - acc: 0.9848\n",
      "Epoch 46/500\n",
      "787/787 [==============================] - 0s 36us/step - loss: 0.0233 - acc: 0.9860\n",
      "Epoch 47/500\n",
      "787/787 [==============================] - 0s 38us/step - loss: 0.0238 - acc: 0.9835\n",
      "Epoch 48/500\n",
      "787/787 [==============================] - 0s 38us/step - loss: 0.0219 - acc: 0.9771\n",
      "Epoch 49/500\n",
      "787/787 [==============================] - 0s 36us/step - loss: 0.0225 - acc: 0.9835\n",
      "Epoch 50/500\n",
      "787/787 [==============================] - 0s 36us/step - loss: 0.0229 - acc: 0.9835\n",
      "Epoch 51/500\n",
      "787/787 [==============================] - 0s 36us/step - loss: 0.0216 - acc: 0.9886\n",
      "Epoch 52/500\n",
      "787/787 [==============================] - 0s 41us/step - loss: 0.0208 - acc: 0.9797\n",
      "Epoch 53/500\n",
      "787/787 [==============================] - 0s 32us/step - loss: 0.0191 - acc: 0.9873\n",
      "Epoch 54/500\n",
      "787/787 [==============================] - 0s 37us/step - loss: 0.0187 - acc: 0.9886\n",
      "Epoch 55/500\n",
      "787/787 [==============================] - 0s 32us/step - loss: 0.0166 - acc: 0.9886\n",
      "Epoch 56/500\n",
      "787/787 [==============================] - 0s 29us/step - loss: 0.0189 - acc: 0.9898\n",
      "Epoch 57/500\n",
      "787/787 [==============================] - 0s 28us/step - loss: 0.0190 - acc: 0.9873\n",
      "Epoch 58/500\n",
      "787/787 [==============================] - 0s 29us/step - loss: 0.0155 - acc: 0.9911\n",
      "Epoch 59/500\n",
      "787/787 [==============================] - 0s 28us/step - loss: 0.0183 - acc: 0.9860\n",
      "Epoch 60/500\n",
      "787/787 [==============================] - 0s 29us/step - loss: 0.0163 - acc: 0.9898\n",
      "Epoch 61/500\n",
      "787/787 [==============================] - 0s 28us/step - loss: 0.0164 - acc: 0.9898\n",
      "Epoch 62/500\n",
      "787/787 [==============================] - 0s 27us/step - loss: 0.0158 - acc: 0.9924\n",
      "Epoch 63/500\n",
      "787/787 [==============================] - 0s 27us/step - loss: 0.0153 - acc: 0.9911\n",
      "Epoch 64/500\n",
      "787/787 [==============================] - 0s 28us/step - loss: 0.0146 - acc: 0.9936\n",
      "Epoch 65/500\n",
      "787/787 [==============================] - 0s 27us/step - loss: 0.0152 - acc: 0.9886\n",
      "Epoch 66/500\n",
      "787/787 [==============================] - 0s 32us/step - loss: 0.0151 - acc: 0.9886\n",
      "Epoch 67/500\n",
      "787/787 [==============================] - 0s 33us/step - loss: 0.0142 - acc: 0.9936\n",
      "Epoch 68/500\n",
      "787/787 [==============================] - 0s 33us/step - loss: 0.0137 - acc: 0.9911\n",
      "Epoch 69/500\n",
      "787/787 [==============================] - 0s 31us/step - loss: 0.0139 - acc: 0.9911\n",
      "Epoch 70/500\n",
      "787/787 [==============================] - 0s 33us/step - loss: 0.0127 - acc: 0.9911\n",
      "Epoch 71/500\n",
      "787/787 [==============================] - 0s 34us/step - loss: 0.0136 - acc: 0.9898\n",
      "Epoch 72/500\n",
      "787/787 [==============================] - 0s 34us/step - loss: 0.0125 - acc: 0.9936\n",
      "Epoch 73/500\n",
      "787/787 [==============================] - 0s 34us/step - loss: 0.0127 - acc: 0.9886\n",
      "Epoch 74/500\n",
      "787/787 [==============================] - 0s 33us/step - loss: 0.0130 - acc: 0.9886\n",
      "Epoch 75/500\n"
     ]
    },
    {
     "name": "stdout",
     "output_type": "stream",
     "text": [
      "787/787 [==============================] - 0s 33us/step - loss: 0.0115 - acc: 0.9924\n",
      "Epoch 76/500\n",
      "787/787 [==============================] - 0s 33us/step - loss: 0.0116 - acc: 0.9911\n",
      "Epoch 77/500\n",
      "787/787 [==============================] - 0s 34us/step - loss: 0.0119 - acc: 0.9911\n",
      "Epoch 78/500\n",
      "787/787 [==============================] - 0s 37us/step - loss: 0.0110 - acc: 0.9949\n",
      "Epoch 79/500\n",
      "787/787 [==============================] - 0s 34us/step - loss: 0.0110 - acc: 0.9949\n",
      "Epoch 80/500\n",
      "787/787 [==============================] - 0s 38us/step - loss: 0.0105 - acc: 0.9936\n",
      "Epoch 81/500\n",
      "787/787 [==============================] - 0s 36us/step - loss: 0.0102 - acc: 0.9936\n",
      "Epoch 82/500\n",
      "787/787 [==============================] - 0s 36us/step - loss: 0.0105 - acc: 0.9924\n",
      "Epoch 83/500\n",
      "787/787 [==============================] - 0s 35us/step - loss: 0.0099 - acc: 0.9936\n",
      "Epoch 84/500\n",
      "787/787 [==============================] - 0s 35us/step - loss: 0.0106 - acc: 0.9911\n",
      "Epoch 85/500\n",
      "787/787 [==============================] - 0s 33us/step - loss: 0.0096 - acc: 0.9936\n",
      "Epoch 86/500\n",
      "787/787 [==============================] - 0s 36us/step - loss: 0.0096 - acc: 0.9936\n",
      "Epoch 87/500\n",
      "787/787 [==============================] - 0s 37us/step - loss: 0.0106 - acc: 0.9936\n",
      "Epoch 88/500\n",
      "787/787 [==============================] - 0s 37us/step - loss: 0.0114 - acc: 0.9886\n",
      "Epoch 89/500\n",
      "787/787 [==============================] - 0s 35us/step - loss: 0.0110 - acc: 0.9898\n",
      "Epoch 90/500\n",
      "787/787 [==============================] - 0s 34us/step - loss: 0.0083 - acc: 0.9949\n",
      "Epoch 91/500\n",
      "787/787 [==============================] - 0s 34us/step - loss: 0.0087 - acc: 0.9936\n",
      "Epoch 92/500\n",
      "787/787 [==============================] - 0s 34us/step - loss: 0.0085 - acc: 0.9936\n",
      "Epoch 93/500\n",
      "787/787 [==============================] - 0s 35us/step - loss: 0.0099 - acc: 0.9949\n",
      "Epoch 94/500\n",
      "787/787 [==============================] - 0s 36us/step - loss: 0.0093 - acc: 0.9949\n",
      "Epoch 95/500\n",
      "787/787 [==============================] - 0s 33us/step - loss: 0.0096 - acc: 0.9911\n",
      "Epoch 96/500\n",
      "787/787 [==============================] - 0s 32us/step - loss: 0.0088 - acc: 0.9936\n",
      "Epoch 97/500\n",
      "787/787 [==============================] - 0s 34us/step - loss: 0.0090 - acc: 0.9924\n",
      "Epoch 98/500\n",
      "787/787 [==============================] - 0s 37us/step - loss: 0.0097 - acc: 0.9924\n",
      "Epoch 99/500\n",
      "787/787 [==============================] - 0s 35us/step - loss: 0.0088 - acc: 0.9924\n",
      "Epoch 100/500\n",
      "787/787 [==============================] - 0s 33us/step - loss: 0.0089 - acc: 0.9936\n",
      "Epoch 101/500\n",
      "787/787 [==============================] - 0s 34us/step - loss: 0.0088 - acc: 0.9936\n",
      "Epoch 102/500\n",
      "787/787 [==============================] - 0s 37us/step - loss: 0.0081 - acc: 0.9936\n",
      "Epoch 103/500\n",
      "787/787 [==============================] - 0s 36us/step - loss: 0.0082 - acc: 0.9949\n",
      "Epoch 104/500\n",
      "787/787 [==============================] - 0s 34us/step - loss: 0.0079 - acc: 0.9936\n",
      "Epoch 105/500\n",
      "787/787 [==============================] - 0s 38us/step - loss: 0.0087 - acc: 0.9936\n",
      "Epoch 106/500\n",
      "787/787 [==============================] - 0s 36us/step - loss: 0.0091 - acc: 0.9936\n",
      "Epoch 107/500\n",
      "787/787 [==============================] - 0s 36us/step - loss: 0.0084 - acc: 0.9949\n",
      "Epoch 108/500\n",
      "787/787 [==============================] - 0s 38us/step - loss: 0.0081 - acc: 0.9936\n",
      "Epoch 109/500\n",
      "787/787 [==============================] - 0s 38us/step - loss: 0.0086 - acc: 0.9911\n",
      "Epoch 110/500\n",
      "787/787 [==============================] - 0s 33us/step - loss: 0.0079 - acc: 0.9936\n",
      "Epoch 111/500\n",
      "787/787 [==============================] - 0s 33us/step - loss: 0.0080 - acc: 0.9949\n",
      "Epoch 112/500\n",
      "787/787 [==============================] - 0s 35us/step - loss: 0.0083 - acc: 0.9924\n",
      "Epoch 113/500\n",
      "787/787 [==============================] - 0s 36us/step - loss: 0.0070 - acc: 0.9936\n",
      "Epoch 114/500\n",
      "787/787 [==============================] - 0s 35us/step - loss: 0.0076 - acc: 0.9949\n",
      "Epoch 115/500\n",
      "787/787 [==============================] - 0s 37us/step - loss: 0.0083 - acc: 0.9924\n",
      "Epoch 116/500\n",
      "787/787 [==============================] - 0s 32us/step - loss: 0.0085 - acc: 0.9936\n",
      "Epoch 117/500\n",
      "787/787 [==============================] - 0s 36us/step - loss: 0.0070 - acc: 0.9949\n",
      "Epoch 118/500\n",
      "787/787 [==============================] - 0s 35us/step - loss: 0.0067 - acc: 0.9949\n",
      "Epoch 119/500\n",
      "787/787 [==============================] - 0s 33us/step - loss: 0.0094 - acc: 0.9911\n",
      "Epoch 120/500\n",
      "787/787 [==============================] - 0s 35us/step - loss: 0.0077 - acc: 0.9936\n",
      "Epoch 121/500\n",
      "787/787 [==============================] - 0s 37us/step - loss: 0.0067 - acc: 0.9949\n",
      "Epoch 122/500\n",
      "787/787 [==============================] - 0s 34us/step - loss: 0.0064 - acc: 0.9936\n",
      "Epoch 123/500\n",
      "787/787 [==============================] - 0s 40us/step - loss: 0.0078 - acc: 0.9936\n",
      "Epoch 124/500\n",
      "787/787 [==============================] - 0s 39us/step - loss: 0.0076 - acc: 0.9949\n",
      "Epoch 125/500\n",
      "787/787 [==============================] - 0s 36us/step - loss: 0.0059 - acc: 0.9962\n",
      "Epoch 126/500\n",
      "787/787 [==============================] - 0s 33us/step - loss: 0.0056 - acc: 0.9962\n",
      "Epoch 127/500\n",
      "787/787 [==============================] - 0s 33us/step - loss: 0.0074 - acc: 0.9949\n",
      "Epoch 128/500\n",
      "787/787 [==============================] - 0s 31us/step - loss: 0.0069 - acc: 0.9949\n",
      "Epoch 129/500\n",
      "787/787 [==============================] - 0s 31us/step - loss: 0.0071 - acc: 0.9936\n",
      "Epoch 130/500\n",
      "787/787 [==============================] - 0s 30us/step - loss: 0.0064 - acc: 0.9949\n",
      "Epoch 131/500\n",
      "787/787 [==============================] - 0s 30us/step - loss: 0.0064 - acc: 0.9949\n",
      "Epoch 132/500\n",
      "787/787 [==============================] - 0s 28us/step - loss: 0.0064 - acc: 0.9949\n",
      "Epoch 133/500\n",
      "787/787 [==============================] - 0s 30us/step - loss: 0.0069 - acc: 0.9949\n",
      "Epoch 134/500\n",
      "787/787 [==============================] - 0s 29us/step - loss: 0.0063 - acc: 0.9936\n",
      "Epoch 135/500\n",
      "787/787 [==============================] - 0s 28us/step - loss: 0.0062 - acc: 0.9949\n",
      "Epoch 136/500\n",
      "787/787 [==============================] - 0s 28us/step - loss: 0.0063 - acc: 0.9949\n",
      "Epoch 137/500\n",
      "787/787 [==============================] - 0s 31us/step - loss: 0.0055 - acc: 0.9962\n",
      "Epoch 138/500\n",
      "787/787 [==============================] - 0s 28us/step - loss: 0.0060 - acc: 0.9949\n",
      "Epoch 139/500\n",
      "787/787 [==============================] - 0s 31us/step - loss: 0.0053 - acc: 0.9962\n",
      "Epoch 140/500\n",
      "787/787 [==============================] - 0s 33us/step - loss: 0.0070 - acc: 0.9936\n",
      "Epoch 141/500\n",
      "787/787 [==============================] - 0s 33us/step - loss: 0.0071 - acc: 0.9924\n",
      "Epoch 142/500\n",
      "787/787 [==============================] - 0s 31us/step - loss: 0.0065 - acc: 0.9949\n",
      "Epoch 143/500\n",
      "787/787 [==============================] - 0s 33us/step - loss: 0.0068 - acc: 0.9949\n",
      "Epoch 144/500\n",
      "787/787 [==============================] - 0s 34us/step - loss: 0.0068 - acc: 0.9936\n",
      "Epoch 145/500\n",
      "787/787 [==============================] - 0s 33us/step - loss: 0.0062 - acc: 0.9949\n",
      "Epoch 146/500\n",
      "787/787 [==============================] - 0s 33us/step - loss: 0.0064 - acc: 0.9949\n",
      "Epoch 147/500\n",
      "787/787 [==============================] - 0s 32us/step - loss: 0.0050 - acc: 0.9949\n",
      "Epoch 148/500\n",
      "787/787 [==============================] - 0s 32us/step - loss: 0.0050 - acc: 0.9962\n",
      "Epoch 149/500\n",
      "787/787 [==============================] - 0s 34us/step - loss: 0.0053 - acc: 0.9949\n",
      "Epoch 150/500\n",
      "787/787 [==============================] - 0s 32us/step - loss: 0.0062 - acc: 0.9949\n",
      "Epoch 151/500\n",
      "787/787 [==============================] - 0s 34us/step - loss: 0.0064 - acc: 0.9949\n",
      "Epoch 152/500\n",
      "787/787 [==============================] - 0s 34us/step - loss: 0.0054 - acc: 0.9949\n",
      "Epoch 153/500\n",
      "787/787 [==============================] - 0s 34us/step - loss: 0.0061 - acc: 0.9949\n",
      "Epoch 154/500\n",
      "787/787 [==============================] - 0s 35us/step - loss: 0.0062 - acc: 0.9949\n",
      "Epoch 155/500\n",
      "787/787 [==============================] - 0s 33us/step - loss: 0.0050 - acc: 0.9962\n",
      "Epoch 156/500\n",
      "787/787 [==============================] - 0s 39us/step - loss: 0.0064 - acc: 0.9949\n",
      "Epoch 157/500\n",
      "787/787 [==============================] - 0s 33us/step - loss: 0.0061 - acc: 0.9924\n",
      "Epoch 158/500\n"
     ]
    },
    {
     "name": "stdout",
     "output_type": "stream",
     "text": [
      "787/787 [==============================] - 0s 36us/step - loss: 0.0065 - acc: 0.9936\n",
      "Epoch 159/500\n",
      "787/787 [==============================] - 0s 39us/step - loss: 0.0062 - acc: 0.9949\n",
      "Epoch 160/500\n",
      "787/787 [==============================] - 0s 39us/step - loss: 0.0064 - acc: 0.9949\n",
      "Epoch 161/500\n",
      "787/787 [==============================] - 0s 34us/step - loss: 0.0047 - acc: 0.9962\n",
      "Epoch 162/500\n",
      "787/787 [==============================] - 0s 32us/step - loss: 0.0057 - acc: 0.9949\n",
      "Epoch 163/500\n",
      "787/787 [==============================] - 0s 33us/step - loss: 0.0061 - acc: 0.9949\n",
      "Epoch 164/500\n",
      "787/787 [==============================] - 0s 35us/step - loss: 0.0057 - acc: 0.9949\n",
      "Epoch 165/500\n",
      "787/787 [==============================] - 0s 33us/step - loss: 0.0060 - acc: 0.9949\n",
      "Epoch 166/500\n",
      "787/787 [==============================] - 0s 33us/step - loss: 0.0047 - acc: 0.9949\n",
      "Epoch 167/500\n",
      "787/787 [==============================] - 0s 31us/step - loss: 0.0050 - acc: 0.9949\n",
      "Epoch 168/500\n",
      "787/787 [==============================] - 0s 35us/step - loss: 0.0049 - acc: 0.9949\n",
      "Epoch 169/500\n",
      "787/787 [==============================] - 0s 35us/step - loss: 0.0048 - acc: 0.9949\n",
      "Epoch 170/500\n",
      "787/787 [==============================] - 0s 33us/step - loss: 0.0044 - acc: 0.9962\n",
      "Epoch 171/500\n",
      "787/787 [==============================] - 0s 39us/step - loss: 0.0045 - acc: 0.9962\n",
      "Epoch 172/500\n",
      "787/787 [==============================] - 0s 37us/step - loss: 0.0046 - acc: 0.9962\n",
      "Epoch 173/500\n",
      "787/787 [==============================] - 0s 38us/step - loss: 0.0048 - acc: 0.9949\n",
      "Epoch 174/500\n",
      "787/787 [==============================] - 0s 34us/step - loss: 0.0049 - acc: 0.9962\n",
      "Epoch 175/500\n",
      "787/787 [==============================] - 0s 40us/step - loss: 0.0045 - acc: 0.9962\n",
      "Epoch 176/500\n",
      "787/787 [==============================] - 0s 32us/step - loss: 0.0045 - acc: 0.9949\n",
      "Epoch 177/500\n",
      "787/787 [==============================] - 0s 32us/step - loss: 0.0051 - acc: 0.9949\n",
      "Epoch 178/500\n",
      "787/787 [==============================] - 0s 31us/step - loss: 0.0047 - acc: 0.9962\n",
      "Epoch 179/500\n",
      "787/787 [==============================] - 0s 31us/step - loss: 0.0043 - acc: 0.9962\n",
      "Epoch 180/500\n",
      "787/787 [==============================] - 0s 36us/step - loss: 0.0044 - acc: 0.9962\n",
      "Epoch 181/500\n",
      "787/787 [==============================] - 0s 32us/step - loss: 0.0043 - acc: 0.9962\n",
      "Epoch 182/500\n",
      "787/787 [==============================] - 0s 31us/step - loss: 0.0042 - acc: 0.9962\n",
      "Epoch 183/500\n",
      "787/787 [==============================] - 0s 30us/step - loss: 0.0047 - acc: 0.9962\n",
      "Epoch 184/500\n",
      "787/787 [==============================] - 0s 28us/step - loss: 0.0041 - acc: 0.9962\n",
      "Epoch 185/500\n",
      "787/787 [==============================] - 0s 28us/step - loss: 0.0043 - acc: 0.9962\n",
      "Epoch 186/500\n",
      "787/787 [==============================] - 0s 33us/step - loss: 0.0049 - acc: 0.9962\n",
      "Epoch 187/500\n",
      "787/787 [==============================] - 0s 34us/step - loss: 0.0046 - acc: 0.9962\n",
      "Epoch 188/500\n",
      "787/787 [==============================] - 0s 32us/step - loss: 0.0044 - acc: 0.9962\n",
      "Epoch 189/500\n",
      "787/787 [==============================] - 0s 34us/step - loss: 0.0049 - acc: 0.9962\n",
      "Epoch 190/500\n",
      "787/787 [==============================] - 0s 32us/step - loss: 0.0044 - acc: 0.9962\n",
      "Epoch 191/500\n",
      "787/787 [==============================] - 0s 35us/step - loss: 0.0042 - acc: 0.9962\n",
      "Epoch 192/500\n",
      "787/787 [==============================] - 0s 33us/step - loss: 0.0044 - acc: 0.9962\n",
      "Epoch 193/500\n",
      "787/787 [==============================] - 0s 31us/step - loss: 0.0044 - acc: 0.9962\n",
      "Epoch 194/500\n",
      "787/787 [==============================] - 0s 33us/step - loss: 0.0043 - acc: 0.9962\n",
      "Epoch 195/500\n",
      "787/787 [==============================] - 0s 33us/step - loss: 0.0041 - acc: 0.9962\n",
      "Epoch 196/500\n",
      "787/787 [==============================] - 0s 32us/step - loss: 0.0042 - acc: 0.9962\n",
      "Epoch 197/500\n",
      "787/787 [==============================] - 0s 34us/step - loss: 0.0045 - acc: 0.9962\n",
      "Epoch 198/500\n",
      "787/787 [==============================] - 0s 31us/step - loss: 0.0043 - acc: 0.9962\n",
      "Epoch 199/500\n",
      "787/787 [==============================] - 0s 36us/step - loss: 0.0043 - acc: 0.9962\n",
      "Epoch 200/500\n",
      "787/787 [==============================] - 0s 33us/step - loss: 0.0043 - acc: 0.9962\n",
      "Epoch 201/500\n",
      "787/787 [==============================] - 0s 35us/step - loss: 0.0047 - acc: 0.9962\n",
      "Epoch 202/500\n",
      "787/787 [==============================] - 0s 34us/step - loss: 0.0041 - acc: 0.9962\n",
      "Epoch 203/500\n",
      "787/787 [==============================] - 0s 37us/step - loss: 0.0042 - acc: 0.9962\n",
      "Epoch 204/500\n",
      "787/787 [==============================] - 0s 32us/step - loss: 0.0043 - acc: 0.9962\n",
      "Epoch 205/500\n",
      "787/787 [==============================] - 0s 34us/step - loss: 0.0043 - acc: 0.9962\n",
      "Epoch 206/500\n",
      "787/787 [==============================] - 0s 34us/step - loss: 0.0043 - acc: 0.9962\n",
      "Epoch 207/500\n",
      "787/787 [==============================] - 0s 34us/step - loss: 0.0042 - acc: 0.9962\n",
      "Epoch 208/500\n",
      "787/787 [==============================] - 0s 36us/step - loss: 0.0045 - acc: 0.9962\n",
      "Epoch 209/500\n",
      "787/787 [==============================] - 0s 31us/step - loss: 0.0045 - acc: 0.9962\n",
      "Epoch 210/500\n",
      "787/787 [==============================] - 0s 36us/step - loss: 0.0041 - acc: 0.9962\n",
      "Epoch 211/500\n",
      "787/787 [==============================] - 0s 35us/step - loss: 0.0045 - acc: 0.9949\n",
      "Epoch 212/500\n",
      "787/787 [==============================] - 0s 33us/step - loss: 0.0052 - acc: 0.9936\n",
      "Epoch 213/500\n",
      "787/787 [==============================] - 0s 32us/step - loss: 0.0049 - acc: 0.9962\n",
      "Epoch 214/500\n",
      "787/787 [==============================] - 0s 35us/step - loss: 0.0045 - acc: 0.9962\n",
      "Epoch 215/500\n",
      "787/787 [==============================] - 0s 31us/step - loss: 0.0047 - acc: 0.9962\n",
      "Epoch 216/500\n",
      "787/787 [==============================] - 0s 36us/step - loss: 0.0043 - acc: 0.9962\n",
      "Epoch 217/500\n",
      "787/787 [==============================] - 0s 30us/step - loss: 0.0041 - acc: 0.9962\n",
      "Epoch 218/500\n",
      "787/787 [==============================] - 0s 34us/step - loss: 0.0042 - acc: 0.9962\n",
      "Epoch 219/500\n",
      "787/787 [==============================] - 0s 33us/step - loss: 0.0044 - acc: 0.9962\n",
      "Epoch 220/500\n",
      "787/787 [==============================] - 0s 34us/step - loss: 0.0040 - acc: 0.9962\n",
      "Epoch 221/500\n",
      "787/787 [==============================] - 0s 35us/step - loss: 0.0041 - acc: 0.9962\n",
      "Epoch 222/500\n",
      "787/787 [==============================] - 0s 31us/step - loss: 0.0043 - acc: 0.9962\n",
      "Epoch 223/500\n",
      "787/787 [==============================] - 0s 33us/step - loss: 0.0041 - acc: 0.9962\n",
      "Epoch 224/500\n",
      "787/787 [==============================] - 0s 36us/step - loss: 0.0046 - acc: 0.9962\n",
      "Epoch 225/500\n",
      "787/787 [==============================] - 0s 31us/step - loss: 0.0041 - acc: 0.9962\n",
      "Epoch 226/500\n",
      "787/787 [==============================] - 0s 35us/step - loss: 0.0041 - acc: 0.9962\n",
      "Epoch 227/500\n",
      "787/787 [==============================] - 0s 33us/step - loss: 0.0040 - acc: 0.9962\n",
      "Epoch 228/500\n",
      "787/787 [==============================] - 0s 33us/step - loss: 0.0042 - acc: 0.9962\n",
      "Epoch 229/500\n",
      "787/787 [==============================] - 0s 41us/step - loss: 0.0041 - acc: 0.9962\n",
      "Epoch 230/500\n",
      "787/787 [==============================] - 0s 39us/step - loss: 0.0041 - acc: 0.9962\n",
      "Epoch 231/500\n",
      "787/787 [==============================] - 0s 37us/step - loss: 0.0045 - acc: 0.9949\n",
      "Epoch 232/500\n",
      "787/787 [==============================] - 0s 34us/step - loss: 0.0042 - acc: 0.9962\n",
      "Epoch 233/500\n",
      "787/787 [==============================] - 0s 35us/step - loss: 0.0041 - acc: 0.9962\n",
      "Epoch 234/500\n",
      "787/787 [==============================] - 0s 38us/step - loss: 0.0045 - acc: 0.9949\n",
      "Epoch 235/500\n",
      "787/787 [==============================] - 0s 38us/step - loss: 0.0042 - acc: 0.9962\n",
      "Epoch 236/500\n",
      "787/787 [==============================] - 0s 40us/step - loss: 0.0040 - acc: 0.9962\n",
      "Epoch 237/500\n",
      "787/787 [==============================] - 0s 34us/step - loss: 0.0042 - acc: 0.9962\n",
      "Epoch 238/500\n",
      "787/787 [==============================] - 0s 38us/step - loss: 0.0043 - acc: 0.9962\n",
      "Epoch 239/500\n",
      "787/787 [==============================] - 0s 33us/step - loss: 0.0046 - acc: 0.9949\n",
      "Epoch 240/500\n"
     ]
    },
    {
     "name": "stdout",
     "output_type": "stream",
     "text": [
      "787/787 [==============================] - 0s 33us/step - loss: 0.0047 - acc: 0.9949\n",
      "Epoch 241/500\n",
      "787/787 [==============================] - 0s 34us/step - loss: 0.0042 - acc: 0.9962\n",
      "Epoch 242/500\n",
      "787/787 [==============================] - 0s 36us/step - loss: 0.0055 - acc: 0.9949\n",
      "Epoch 243/500\n",
      "787/787 [==============================] - 0s 37us/step - loss: 0.0053 - acc: 0.9936\n",
      "Epoch 244/500\n",
      "787/787 [==============================] - 0s 32us/step - loss: 0.0050 - acc: 0.9962\n",
      "Epoch 245/500\n",
      "787/787 [==============================] - 0s 35us/step - loss: 0.0044 - acc: 0.9962\n",
      "Epoch 246/500\n",
      "787/787 [==============================] - 0s 33us/step - loss: 0.0042 - acc: 0.9962\n",
      "Epoch 247/500\n",
      "787/787 [==============================] - 0s 32us/step - loss: 0.0041 - acc: 0.9962\n",
      "Epoch 248/500\n",
      "787/787 [==============================] - 0s 37us/step - loss: 0.0040 - acc: 0.9962\n",
      "Epoch 249/500\n",
      "787/787 [==============================] - 0s 34us/step - loss: 0.0042 - acc: 0.9962\n",
      "Epoch 250/500\n",
      "787/787 [==============================] - 0s 40us/step - loss: 0.0043 - acc: 0.9949\n",
      "Epoch 251/500\n",
      "787/787 [==============================] - 0s 36us/step - loss: 0.0040 - acc: 0.9962\n",
      "Epoch 252/500\n",
      "787/787 [==============================] - 0s 39us/step - loss: 0.0040 - acc: 0.9962\n",
      "Epoch 253/500\n",
      "787/787 [==============================] - 0s 39us/step - loss: 0.0042 - acc: 0.9962\n",
      "Epoch 254/500\n",
      "787/787 [==============================] - 0s 40us/step - loss: 0.0047 - acc: 0.9949\n",
      "Epoch 255/500\n",
      "787/787 [==============================] - 0s 39us/step - loss: 0.0045 - acc: 0.9949\n",
      "Epoch 256/500\n",
      "787/787 [==============================] - 0s 35us/step - loss: 0.0067 - acc: 0.9936\n",
      "Epoch 257/500\n",
      "787/787 [==============================] - 0s 35us/step - loss: 0.0046 - acc: 0.9949\n",
      "Epoch 258/500\n",
      "787/787 [==============================] - 0s 33us/step - loss: 0.0054 - acc: 0.9936\n",
      "Epoch 259/500\n",
      "787/787 [==============================] - 0s 32us/step - loss: 0.0041 - acc: 0.9962\n",
      "Epoch 260/500\n",
      "787/787 [==============================] - 0s 33us/step - loss: 0.0039 - acc: 0.9962\n",
      "Epoch 261/500\n",
      "787/787 [==============================] - 0s 36us/step - loss: 0.0040 - acc: 0.9962\n",
      "Epoch 262/500\n",
      "787/787 [==============================] - 0s 34us/step - loss: 0.0042 - acc: 0.9962\n",
      "Epoch 263/500\n",
      "787/787 [==============================] - 0s 31us/step - loss: 0.0041 - acc: 0.9962\n",
      "Epoch 264/500\n",
      "787/787 [==============================] - 0s 33us/step - loss: 0.0042 - acc: 0.9962\n",
      "Epoch 265/500\n",
      "787/787 [==============================] - 0s 33us/step - loss: 0.0044 - acc: 0.9949\n",
      "Epoch 266/500\n",
      "787/787 [==============================] - 0s 35us/step - loss: 0.0040 - acc: 0.9962\n",
      "Epoch 267/500\n",
      "787/787 [==============================] - 0s 32us/step - loss: 0.0040 - acc: 0.9962\n",
      "Epoch 268/500\n",
      "787/787 [==============================] - 0s 35us/step - loss: 0.0039 - acc: 0.9962\n",
      "Epoch 269/500\n",
      "787/787 [==============================] - 0s 33us/step - loss: 0.0040 - acc: 0.9962\n",
      "Epoch 270/500\n",
      "787/787 [==============================] - 0s 32us/step - loss: 0.0041 - acc: 0.9962\n",
      "Epoch 271/500\n",
      "787/787 [==============================] - 0s 34us/step - loss: 0.0044 - acc: 0.9962\n",
      "Epoch 272/500\n",
      "787/787 [==============================] - 0s 32us/step - loss: 0.0041 - acc: 0.9962\n",
      "Epoch 273/500\n",
      "787/787 [==============================] - 0s 37us/step - loss: 0.0039 - acc: 0.9962\n",
      "Epoch 274/500\n",
      "787/787 [==============================] - 0s 37us/step - loss: 0.0041 - acc: 0.9962\n",
      "Epoch 275/500\n",
      "787/787 [==============================] - 0s 36us/step - loss: 0.0040 - acc: 0.9962\n",
      "Epoch 276/500\n",
      "787/787 [==============================] - 0s 36us/step - loss: 0.0040 - acc: 0.9962\n",
      "Epoch 277/500\n",
      "787/787 [==============================] - 0s 36us/step - loss: 0.0039 - acc: 0.9962\n",
      "Epoch 278/500\n",
      "787/787 [==============================] - 0s 34us/step - loss: 0.0039 - acc: 0.9962\n",
      "Epoch 279/500\n",
      "787/787 [==============================] - 0s 37us/step - loss: 0.0041 - acc: 0.9962\n",
      "Epoch 280/500\n",
      "787/787 [==============================] - 0s 38us/step - loss: 0.0039 - acc: 0.9962\n",
      "Epoch 281/500\n",
      "787/787 [==============================] - 0s 39us/step - loss: 0.0040 - acc: 0.9962\n",
      "Epoch 282/500\n",
      "787/787 [==============================] - 0s 38us/step - loss: 0.0039 - acc: 0.9962\n",
      "Epoch 283/500\n",
      "787/787 [==============================] - 0s 34us/step - loss: 0.0045 - acc: 0.9949\n",
      "Epoch 284/500\n",
      "787/787 [==============================] - 0s 32us/step - loss: 0.0041 - acc: 0.9962\n",
      "Epoch 285/500\n",
      "787/787 [==============================] - 0s 35us/step - loss: 0.0040 - acc: 0.9962\n",
      "Epoch 286/500\n",
      "787/787 [==============================] - 0s 35us/step - loss: 0.0042 - acc: 0.9962\n",
      "Epoch 287/500\n",
      "787/787 [==============================] - 0s 33us/step - loss: 0.0040 - acc: 0.9962\n",
      "Epoch 288/500\n",
      "787/787 [==============================] - 0s 36us/step - loss: 0.0041 - acc: 0.9962\n",
      "Epoch 289/500\n",
      "787/787 [==============================] - 0s 31us/step - loss: 0.0039 - acc: 0.9962\n",
      "Epoch 290/500\n",
      "787/787 [==============================] - 0s 34us/step - loss: 0.0039 - acc: 0.9962\n",
      "Epoch 291/500\n",
      "787/787 [==============================] - 0s 37us/step - loss: 0.0039 - acc: 0.9962\n",
      "Epoch 292/500\n",
      "787/787 [==============================] - 0s 32us/step - loss: 0.0040 - acc: 0.9962\n",
      "Epoch 293/500\n",
      "787/787 [==============================] - 0s 32us/step - loss: 0.0039 - acc: 0.9962\n",
      "Epoch 294/500\n",
      "787/787 [==============================] - 0s 38us/step - loss: 0.0047 - acc: 0.9962\n",
      "Epoch 295/500\n",
      "787/787 [==============================] - 0s 48us/step - loss: 0.0041 - acc: 0.9962\n",
      "Epoch 296/500\n",
      "787/787 [==============================] - 0s 31us/step - loss: 0.0039 - acc: 0.9962\n",
      "Epoch 297/500\n",
      "787/787 [==============================] - 0s 31us/step - loss: 0.0047 - acc: 0.9949\n",
      "Epoch 298/500\n",
      "787/787 [==============================] - 0s 37us/step - loss: 0.0039 - acc: 0.9962\n",
      "Epoch 299/500\n",
      "787/787 [==============================] - 0s 38us/step - loss: 0.0039 - acc: 0.9962\n",
      "Epoch 300/500\n",
      "787/787 [==============================] - 0s 43us/step - loss: 0.0039 - acc: 0.9962\n",
      "Epoch 301/500\n",
      "787/787 [==============================] - 0s 45us/step - loss: 0.0039 - acc: 0.9962\n",
      "Epoch 302/500\n",
      "787/787 [==============================] - 0s 40us/step - loss: 0.0039 - acc: 0.9962\n",
      "Epoch 303/500\n",
      "787/787 [==============================] - 0s 39us/step - loss: 0.0041 - acc: 0.9962\n",
      "Epoch 304/500\n",
      "787/787 [==============================] - 0s 33us/step - loss: 0.0040 - acc: 0.9962\n",
      "Epoch 305/500\n",
      "787/787 [==============================] - 0s 36us/step - loss: 0.0043 - acc: 0.9949\n",
      "Epoch 306/500\n",
      "787/787 [==============================] - 0s 36us/step - loss: 0.0044 - acc: 0.9962\n",
      "Epoch 307/500\n",
      "787/787 [==============================] - 0s 36us/step - loss: 0.0040 - acc: 0.9962\n",
      "Epoch 308/500\n",
      "787/787 [==============================] - 0s 36us/step - loss: 0.0040 - acc: 0.9962\n",
      "Epoch 309/500\n",
      "787/787 [==============================] - 0s 35us/step - loss: 0.0040 - acc: 0.9962\n",
      "Epoch 310/500\n",
      "787/787 [==============================] - 0s 34us/step - loss: 0.0039 - acc: 0.9962\n",
      "Epoch 311/500\n",
      "787/787 [==============================] - 0s 34us/step - loss: 0.0039 - acc: 0.9962\n",
      "Epoch 312/500\n",
      "787/787 [==============================] - 0s 36us/step - loss: 0.0044 - acc: 0.9962\n",
      "Epoch 313/500\n",
      "787/787 [==============================] - 0s 34us/step - loss: 0.0039 - acc: 0.9962\n",
      "Epoch 314/500\n",
      "787/787 [==============================] - 0s 41us/step - loss: 0.0039 - acc: 0.9962\n",
      "Epoch 315/500\n",
      "787/787 [==============================] - 0s 37us/step - loss: 0.0039 - acc: 0.9962\n",
      "Epoch 316/500\n",
      "787/787 [==============================] - 0s 38us/step - loss: 0.0039 - acc: 0.9962\n",
      "Epoch 317/500\n",
      "787/787 [==============================] - 0s 38us/step - loss: 0.0039 - acc: 0.9962\n",
      "Epoch 318/500\n",
      "787/787 [==============================] - 0s 38us/step - loss: 0.0039 - acc: 0.9962\n",
      "Epoch 319/500\n",
      "787/787 [==============================] - 0s 39us/step - loss: 0.0039 - acc: 0.9962\n",
      "Epoch 320/500\n",
      "787/787 [==============================] - 0s 36us/step - loss: 0.0040 - acc: 0.9962\n",
      "Epoch 321/500\n",
      "787/787 [==============================] - 0s 33us/step - loss: 0.0039 - acc: 0.9962\n",
      "Epoch 322/500\n"
     ]
    },
    {
     "name": "stdout",
     "output_type": "stream",
     "text": [
      "787/787 [==============================] - 0s 34us/step - loss: 0.0039 - acc: 0.9962\n",
      "Epoch 323/500\n",
      "787/787 [==============================] - 0s 32us/step - loss: 0.0050 - acc: 0.9949\n",
      "Epoch 324/500\n",
      "787/787 [==============================] - 0s 36us/step - loss: 0.0039 - acc: 0.9962\n",
      "Epoch 325/500\n",
      "787/787 [==============================] - 0s 35us/step - loss: 0.0039 - acc: 0.9962\n",
      "Epoch 326/500\n",
      "787/787 [==============================] - 0s 35us/step - loss: 0.0039 - acc: 0.9962\n",
      "Epoch 327/500\n",
      "787/787 [==============================] - 0s 31us/step - loss: 0.0039 - acc: 0.9962\n",
      "Epoch 328/500\n",
      "787/787 [==============================] - 0s 34us/step - loss: 0.0039 - acc: 0.9962\n",
      "Epoch 329/500\n",
      "787/787 [==============================] - 0s 34us/step - loss: 0.0040 - acc: 0.9962\n",
      "Epoch 330/500\n",
      "787/787 [==============================] - 0s 34us/step - loss: 0.0039 - acc: 0.9962\n",
      "Epoch 331/500\n",
      "787/787 [==============================] - 0s 36us/step - loss: 0.0039 - acc: 0.9962\n",
      "Epoch 332/500\n",
      "787/787 [==============================] - 0s 28us/step - loss: 0.0041 - acc: 0.9962\n",
      "Epoch 333/500\n",
      "787/787 [==============================] - 0s 34us/step - loss: 0.0039 - acc: 0.9962\n",
      "Epoch 334/500\n",
      "787/787 [==============================] - 0s 37us/step - loss: 0.0044 - acc: 0.9949\n",
      "Epoch 335/500\n",
      "787/787 [==============================] - 0s 34us/step - loss: 0.0041 - acc: 0.9962\n",
      "Epoch 336/500\n",
      "787/787 [==============================] - 0s 37us/step - loss: 0.0039 - acc: 0.9962\n",
      "Epoch 337/500\n",
      "787/787 [==============================] - 0s 35us/step - loss: 0.0039 - acc: 0.9962\n",
      "Epoch 338/500\n",
      "787/787 [==============================] - 0s 35us/step - loss: 0.0039 - acc: 0.9962\n",
      "Epoch 339/500\n",
      "787/787 [==============================] - 0s 38us/step - loss: 0.0041 - acc: 0.9962\n",
      "Epoch 340/500\n",
      "787/787 [==============================] - 0s 36us/step - loss: 0.0039 - acc: 0.9962\n",
      "Epoch 341/500\n",
      "787/787 [==============================] - 0s 37us/step - loss: 0.0039 - acc: 0.9962\n",
      "Epoch 342/500\n",
      "787/787 [==============================] - 0s 34us/step - loss: 0.0039 - acc: 0.9962\n",
      "Epoch 343/500\n",
      "787/787 [==============================] - 0s 33us/step - loss: 0.0039 - acc: 0.9962\n",
      "Epoch 344/500\n",
      "787/787 [==============================] - 0s 30us/step - loss: 0.0038 - acc: 0.9962\n",
      "Epoch 345/500\n",
      "787/787 [==============================] - 0s 32us/step - loss: 0.0039 - acc: 0.9962\n",
      "Epoch 346/500\n",
      "787/787 [==============================] - 0s 33us/step - loss: 0.0038 - acc: 0.9962\n",
      "Epoch 347/500\n",
      "787/787 [==============================] - 0s 30us/step - loss: 0.0039 - acc: 0.9962\n",
      "Epoch 348/500\n",
      "787/787 [==============================] - 0s 34us/step - loss: 0.0043 - acc: 0.9949\n",
      "Epoch 349/500\n",
      "787/787 [==============================] - 0s 31us/step - loss: 0.0039 - acc: 0.9962\n",
      "Epoch 350/500\n",
      "787/787 [==============================] - 0s 33us/step - loss: 0.0042 - acc: 0.9949\n",
      "Epoch 351/500\n",
      "787/787 [==============================] - 0s 32us/step - loss: 0.0043 - acc: 0.9949\n",
      "Epoch 352/500\n",
      "787/787 [==============================] - 0s 31us/step - loss: 0.0040 - acc: 0.9962\n",
      "Epoch 353/500\n",
      "787/787 [==============================] - 0s 31us/step - loss: 0.0045 - acc: 0.9962\n",
      "Epoch 354/500\n",
      "787/787 [==============================] - 0s 33us/step - loss: 0.0040 - acc: 0.9962\n",
      "Epoch 355/500\n",
      "787/787 [==============================] - 0s 32us/step - loss: 0.0045 - acc: 0.9949\n",
      "Epoch 356/500\n",
      "787/787 [==============================] - 0s 32us/step - loss: 0.0041 - acc: 0.9962\n",
      "Epoch 357/500\n",
      "787/787 [==============================] - 0s 34us/step - loss: 0.0040 - acc: 0.9962\n",
      "Epoch 358/500\n",
      "787/787 [==============================] - 0s 35us/step - loss: 0.0042 - acc: 0.9962\n",
      "Epoch 359/500\n",
      "787/787 [==============================] - 0s 36us/step - loss: 0.0039 - acc: 0.9962\n",
      "Epoch 360/500\n",
      "787/787 [==============================] - 0s 37us/step - loss: 0.0040 - acc: 0.9962\n",
      "Epoch 361/500\n",
      "787/787 [==============================] - 0s 38us/step - loss: 0.0039 - acc: 0.9962\n",
      "Epoch 362/500\n",
      "787/787 [==============================] - 0s 36us/step - loss: 0.0039 - acc: 0.9962\n",
      "Epoch 363/500\n",
      "787/787 [==============================] - 0s 36us/step - loss: 0.0039 - acc: 0.9962\n",
      "Epoch 364/500\n",
      "787/787 [==============================] - 0s 35us/step - loss: 0.0038 - acc: 0.9962\n",
      "Epoch 365/500\n",
      "787/787 [==============================] - 0s 35us/step - loss: 0.0045 - acc: 0.9962\n",
      "Epoch 366/500\n",
      "787/787 [==============================] - 0s 34us/step - loss: 0.0047 - acc: 0.9949\n",
      "Epoch 367/500\n",
      "787/787 [==============================] - 0s 32us/step - loss: 0.0041 - acc: 0.9962\n",
      "Epoch 368/500\n",
      "787/787 [==============================] - 0s 32us/step - loss: 0.0039 - acc: 0.9962\n",
      "Epoch 369/500\n",
      "787/787 [==============================] - 0s 33us/step - loss: 0.0044 - acc: 0.9962\n",
      "Epoch 370/500\n",
      "787/787 [==============================] - 0s 31us/step - loss: 0.0040 - acc: 0.9962\n",
      "Epoch 371/500\n",
      "787/787 [==============================] - 0s 33us/step - loss: 0.0041 - acc: 0.9962\n",
      "Epoch 372/500\n",
      "787/787 [==============================] - 0s 31us/step - loss: 0.0052 - acc: 0.9949\n",
      "Epoch 373/500\n",
      "787/787 [==============================] - 0s 33us/step - loss: 0.0040 - acc: 0.9962\n",
      "Epoch 374/500\n",
      "787/787 [==============================] - 0s 31us/step - loss: 0.0039 - acc: 0.9962\n",
      "Epoch 375/500\n",
      "787/787 [==============================] - 0s 32us/step - loss: 0.0039 - acc: 0.9962\n",
      "Epoch 376/500\n",
      "787/787 [==============================] - 0s 31us/step - loss: 0.0038 - acc: 0.9962\n",
      "Epoch 377/500\n",
      "787/787 [==============================] - 0s 31us/step - loss: 0.0038 - acc: 0.9962\n",
      "Epoch 378/500\n",
      "787/787 [==============================] - 0s 30us/step - loss: 0.0038 - acc: 0.9962\n",
      "Epoch 379/500\n",
      "787/787 [==============================] - 0s 28us/step - loss: 0.0038 - acc: 0.9962\n",
      "Epoch 380/500\n",
      "787/787 [==============================] - 0s 31us/step - loss: 0.0039 - acc: 0.9962\n",
      "Epoch 381/500\n",
      "787/787 [==============================] - 0s 28us/step - loss: 0.0039 - acc: 0.9962\n",
      "Epoch 382/500\n",
      "787/787 [==============================] - 0s 29us/step - loss: 0.0040 - acc: 0.9962\n",
      "Epoch 383/500\n",
      "787/787 [==============================] - 0s 29us/step - loss: 0.0041 - acc: 0.9962\n",
      "Epoch 384/500\n",
      "787/787 [==============================] - 0s 29us/step - loss: 0.0038 - acc: 0.9962\n",
      "Epoch 385/500\n",
      "787/787 [==============================] - 0s 28us/step - loss: 0.0039 - acc: 0.9962\n",
      "Epoch 386/500\n",
      "787/787 [==============================] - 0s 29us/step - loss: 0.0038 - acc: 0.9962\n",
      "Epoch 387/500\n",
      "787/787 [==============================] - 0s 33us/step - loss: 0.0038 - acc: 0.9962\n",
      "Epoch 388/500\n",
      "787/787 [==============================] - 0s 31us/step - loss: 0.0048 - acc: 0.9949\n",
      "Epoch 389/500\n",
      "787/787 [==============================] - 0s 32us/step - loss: 0.0045 - acc: 0.9962\n",
      "Epoch 390/500\n",
      "787/787 [==============================] - 0s 31us/step - loss: 0.0039 - acc: 0.9962\n",
      "Epoch 391/500\n",
      "787/787 [==============================] - 0s 32us/step - loss: 0.0038 - acc: 0.9962\n",
      "Epoch 392/500\n",
      "787/787 [==============================] - 0s 31us/step - loss: 0.0038 - acc: 0.9962\n",
      "Epoch 393/500\n",
      "787/787 [==============================] - 0s 32us/step - loss: 0.0038 - acc: 0.9962\n",
      "Epoch 394/500\n",
      "787/787 [==============================] - 0s 28us/step - loss: 0.0040 - acc: 0.9962\n",
      "Epoch 395/500\n",
      "787/787 [==============================] - 0s 29us/step - loss: 0.0040 - acc: 0.9962\n",
      "Epoch 396/500\n",
      "787/787 [==============================] - 0s 31us/step - loss: 0.0039 - acc: 0.9962\n",
      "Epoch 397/500\n",
      "787/787 [==============================] - 0s 30us/step - loss: 0.0040 - acc: 0.9962\n",
      "Epoch 398/500\n",
      "787/787 [==============================] - 0s 28us/step - loss: 0.0039 - acc: 0.9962\n",
      "Epoch 399/500\n",
      "787/787 [==============================] - 0s 29us/step - loss: 0.0039 - acc: 0.9962\n",
      "Epoch 400/500\n",
      "787/787 [==============================] - 0s 27us/step - loss: 0.0038 - acc: 0.9962\n",
      "Epoch 401/500\n",
      "787/787 [==============================] - 0s 30us/step - loss: 0.0045 - acc: 0.9949\n",
      "Epoch 402/500\n",
      "787/787 [==============================] - 0s 28us/step - loss: 0.0041 - acc: 0.9962\n",
      "Epoch 403/500\n",
      "787/787 [==============================] - 0s 27us/step - loss: 0.0039 - acc: 0.9962\n",
      "Epoch 404/500\n"
     ]
    },
    {
     "name": "stdout",
     "output_type": "stream",
     "text": [
      "787/787 [==============================] - 0s 30us/step - loss: 0.0040 - acc: 0.9962\n",
      "Epoch 405/500\n",
      "787/787 [==============================] - 0s 28us/step - loss: 0.0074 - acc: 0.9911\n",
      "Epoch 406/500\n",
      "787/787 [==============================] - 0s 30us/step - loss: 0.0102 - acc: 0.9873\n",
      "Epoch 407/500\n",
      "787/787 [==============================] - 0s 31us/step - loss: 0.0057 - acc: 0.9936\n",
      "Epoch 408/500\n",
      "787/787 [==============================] - 0s 30us/step - loss: 0.0059 - acc: 0.9936\n",
      "Epoch 409/500\n",
      "787/787 [==============================] - 0s 28us/step - loss: 0.0058 - acc: 0.9936\n",
      "Epoch 410/500\n",
      "787/787 [==============================] - 0s 31us/step - loss: 0.0045 - acc: 0.9949\n",
      "Epoch 411/500\n",
      "787/787 [==============================] - 0s 29us/step - loss: 0.0049 - acc: 0.9949\n",
      "Epoch 412/500\n",
      "787/787 [==============================] - 0s 31us/step - loss: 0.0056 - acc: 0.9936\n",
      "Epoch 413/500\n",
      "787/787 [==============================] - 0s 30us/step - loss: 0.0041 - acc: 0.9962\n",
      "Epoch 414/500\n",
      "787/787 [==============================] - 0s 28us/step - loss: 0.0045 - acc: 0.9949\n",
      "Epoch 415/500\n",
      "787/787 [==============================] - 0s 32us/step - loss: 0.0048 - acc: 0.9949\n",
      "Epoch 416/500\n",
      "787/787 [==============================] - 0s 28us/step - loss: 0.0040 - acc: 0.9962\n",
      "Epoch 417/500\n",
      "787/787 [==============================] - 0s 31us/step - loss: 0.0038 - acc: 0.9962\n",
      "Epoch 418/500\n",
      "787/787 [==============================] - 0s 30us/step - loss: 0.0039 - acc: 0.9962\n",
      "Epoch 419/500\n",
      "787/787 [==============================] - 0s 29us/step - loss: 0.0040 - acc: 0.9962\n",
      "Epoch 420/500\n",
      "787/787 [==============================] - 0s 28us/step - loss: 0.0045 - acc: 0.9949\n",
      "Epoch 421/500\n",
      "787/787 [==============================] - 0s 29us/step - loss: 0.0039 - acc: 0.9962\n",
      "Epoch 422/500\n",
      "787/787 [==============================] - 0s 28us/step - loss: 0.0040 - acc: 0.9962\n",
      "Epoch 423/500\n",
      "787/787 [==============================] - 0s 28us/step - loss: 0.0039 - acc: 0.9962\n",
      "Epoch 424/500\n",
      "787/787 [==============================] - 0s 32us/step - loss: 0.0041 - acc: 0.9962\n",
      "Epoch 425/500\n",
      "787/787 [==============================] - 0s 29us/step - loss: 0.0038 - acc: 0.9962\n",
      "Epoch 426/500\n",
      "787/787 [==============================] - 0s 28us/step - loss: 0.0039 - acc: 0.9962\n",
      "Epoch 427/500\n",
      "787/787 [==============================] - 0s 34us/step - loss: 0.0039 - acc: 0.9962\n",
      "Epoch 428/500\n",
      "787/787 [==============================] - 0s 29us/step - loss: 0.0038 - acc: 0.9962\n",
      "Epoch 429/500\n",
      "787/787 [==============================] - 0s 31us/step - loss: 0.0038 - acc: 0.9962\n",
      "Epoch 430/500\n",
      "787/787 [==============================] - 0s 28us/step - loss: 0.0039 - acc: 0.9962\n",
      "Epoch 431/500\n",
      "787/787 [==============================] - 0s 31us/step - loss: 0.0039 - acc: 0.9962\n",
      "Epoch 432/500\n",
      "787/787 [==============================] - 0s 27us/step - loss: 0.0038 - acc: 0.9962\n",
      "Epoch 433/500\n",
      "787/787 [==============================] - 0s 36us/step - loss: 0.0040 - acc: 0.9962\n",
      "Epoch 434/500\n",
      "787/787 [==============================] - 0s 28us/step - loss: 0.0039 - acc: 0.9962\n",
      "Epoch 435/500\n",
      "787/787 [==============================] - 0s 29us/step - loss: 0.0041 - acc: 0.9962\n",
      "Epoch 436/500\n",
      "787/787 [==============================] - 0s 35us/step - loss: 0.0039 - acc: 0.9962\n",
      "Epoch 437/500\n",
      "787/787 [==============================] - 0s 32us/step - loss: 0.0039 - acc: 0.9962\n",
      "Epoch 438/500\n",
      "787/787 [==============================] - 0s 32us/step - loss: 0.0041 - acc: 0.9962\n",
      "Epoch 439/500\n",
      "787/787 [==============================] - 0s 33us/step - loss: 0.0048 - acc: 0.9949\n",
      "Epoch 440/500\n",
      "787/787 [==============================] - 0s 33us/step - loss: 0.0039 - acc: 0.9962\n",
      "Epoch 441/500\n",
      "787/787 [==============================] - 0s 33us/step - loss: 0.0040 - acc: 0.9962\n",
      "Epoch 442/500\n",
      "787/787 [==============================] - 0s 32us/step - loss: 0.0045 - acc: 0.9949\n",
      "Epoch 443/500\n",
      "787/787 [==============================] - 0s 33us/step - loss: 0.0038 - acc: 0.9962\n",
      "Epoch 444/500\n",
      "787/787 [==============================] - 0s 32us/step - loss: 0.0039 - acc: 0.9962\n",
      "Epoch 445/500\n",
      "787/787 [==============================] - 0s 35us/step - loss: 0.0039 - acc: 0.9962\n",
      "Epoch 446/500\n",
      "787/787 [==============================] - 0s 34us/step - loss: 0.0038 - acc: 0.9962\n",
      "Epoch 447/500\n",
      "787/787 [==============================] - 0s 34us/step - loss: 0.0038 - acc: 0.9962\n",
      "Epoch 448/500\n",
      "787/787 [==============================] - 0s 34us/step - loss: 0.0044 - acc: 0.9949\n",
      "Epoch 449/500\n",
      "787/787 [==============================] - 0s 36us/step - loss: 0.0040 - acc: 0.9962\n",
      "Epoch 450/500\n",
      "787/787 [==============================] - 0s 39us/step - loss: 0.0038 - acc: 0.9962\n",
      "Epoch 451/500\n",
      "787/787 [==============================] - 0s 33us/step - loss: 0.0038 - acc: 0.9962\n",
      "Epoch 452/500\n",
      "787/787 [==============================] - 0s 34us/step - loss: 0.0038 - acc: 0.9962\n",
      "Epoch 453/500\n",
      "787/787 [==============================] - 0s 34us/step - loss: 0.0038 - acc: 0.9962\n",
      "Epoch 454/500\n",
      "787/787 [==============================] - 0s 36us/step - loss: 0.0038 - acc: 0.9962\n",
      "Epoch 455/500\n",
      "787/787 [==============================] - 0s 36us/step - loss: 0.0038 - acc: 0.9962\n",
      "Epoch 456/500\n",
      "787/787 [==============================] - 0s 37us/step - loss: 0.0038 - acc: 0.9962\n",
      "Epoch 457/500\n",
      "787/787 [==============================] - 0s 35us/step - loss: 0.0038 - acc: 0.9962\n",
      "Epoch 458/500\n",
      "787/787 [==============================] - 0s 33us/step - loss: 0.0038 - acc: 0.9962\n",
      "Epoch 459/500\n",
      "787/787 [==============================] - 0s 28us/step - loss: 0.0039 - acc: 0.9962\n",
      "Epoch 460/500\n",
      "787/787 [==============================] - 0s 30us/step - loss: 0.0038 - acc: 0.9962\n",
      "Epoch 461/500\n",
      "787/787 [==============================] - 0s 29us/step - loss: 0.0039 - acc: 0.9962\n",
      "Epoch 462/500\n",
      "787/787 [==============================] - 0s 27us/step - loss: 0.0038 - acc: 0.9962\n",
      "Epoch 463/500\n",
      "787/787 [==============================] - 0s 28us/step - loss: 0.0038 - acc: 0.9962\n",
      "Epoch 464/500\n",
      "787/787 [==============================] - 0s 26us/step - loss: 0.0038 - acc: 0.9962\n",
      "Epoch 465/500\n",
      "787/787 [==============================] - 0s 28us/step - loss: 0.0039 - acc: 0.9962\n",
      "Epoch 466/500\n",
      "787/787 [==============================] - 0s 31us/step - loss: 0.0038 - acc: 0.9962\n",
      "Epoch 467/500\n",
      "787/787 [==============================] - 0s 29us/step - loss: 0.0039 - acc: 0.9962\n",
      "Epoch 468/500\n",
      "787/787 [==============================] - 0s 26us/step - loss: 0.0039 - acc: 0.9962\n",
      "Epoch 469/500\n",
      "787/787 [==============================] - 0s 35us/step - loss: 0.0039 - acc: 0.9962\n",
      "Epoch 470/500\n",
      "787/787 [==============================] - 0s 34us/step - loss: 0.0039 - acc: 0.9962\n",
      "Epoch 471/500\n",
      "787/787 [==============================] - 0s 33us/step - loss: 0.0038 - acc: 0.9962\n",
      "Epoch 472/500\n",
      "787/787 [==============================] - 0s 30us/step - loss: 0.0038 - acc: 0.9962\n",
      "Epoch 473/500\n",
      "787/787 [==============================] - 0s 31us/step - loss: 0.0038 - acc: 0.9962\n",
      "Epoch 474/500\n",
      "787/787 [==============================] - 0s 33us/step - loss: 0.0038 - acc: 0.9962\n",
      "Epoch 475/500\n",
      "787/787 [==============================] - 0s 30us/step - loss: 0.0038 - acc: 0.9962\n",
      "Epoch 476/500\n",
      "787/787 [==============================] - 0s 31us/step - loss: 0.0039 - acc: 0.9962\n",
      "Epoch 477/500\n",
      "787/787 [==============================] - 0s 34us/step - loss: 0.0038 - acc: 0.9962\n",
      "Epoch 478/500\n",
      "787/787 [==============================] - 0s 29us/step - loss: 0.0038 - acc: 0.9962\n",
      "Epoch 479/500\n",
      "787/787 [==============================] - 0s 31us/step - loss: 0.0042 - acc: 0.9949\n",
      "Epoch 480/500\n",
      "787/787 [==============================] - 0s 28us/step - loss: 0.0039 - acc: 0.9962\n",
      "Epoch 481/500\n",
      "787/787 [==============================] - 0s 35us/step - loss: 0.0038 - acc: 0.9962\n",
      "Epoch 482/500\n",
      "787/787 [==============================] - 0s 29us/step - loss: 0.0039 - acc: 0.9962\n",
      "Epoch 483/500\n",
      "787/787 [==============================] - 0s 33us/step - loss: 0.0038 - acc: 0.9962\n",
      "Epoch 484/500\n",
      "787/787 [==============================] - 0s 29us/step - loss: 0.0038 - acc: 0.9962\n",
      "Epoch 485/500\n",
      "787/787 [==============================] - 0s 35us/step - loss: 0.0039 - acc: 0.9962\n",
      "Epoch 486/500\n"
     ]
    },
    {
     "name": "stdout",
     "output_type": "stream",
     "text": [
      "787/787 [==============================] - 0s 30us/step - loss: 0.0038 - acc: 0.9962\n",
      "Epoch 487/500\n",
      "787/787 [==============================] - 0s 31us/step - loss: 0.0038 - acc: 0.9962\n",
      "Epoch 488/500\n",
      "787/787 [==============================] - 0s 37us/step - loss: 0.0038 - acc: 0.9962\n",
      "Epoch 489/500\n",
      "787/787 [==============================] - 0s 34us/step - loss: 0.0038 - acc: 0.9962\n",
      "Epoch 490/500\n",
      "787/787 [==============================] - 0s 32us/step - loss: 0.0038 - acc: 0.9962\n",
      "Epoch 491/500\n",
      "787/787 [==============================] - 0s 34us/step - loss: 0.0038 - acc: 0.9962\n",
      "Epoch 492/500\n",
      "787/787 [==============================] - 0s 31us/step - loss: 0.0038 - acc: 0.9962\n",
      "Epoch 493/500\n",
      "787/787 [==============================] - 0s 36us/step - loss: 0.0039 - acc: 0.9962\n",
      "Epoch 494/500\n",
      "787/787 [==============================] - 0s 32us/step - loss: 0.0038 - acc: 0.9962\n",
      "Epoch 495/500\n",
      "787/787 [==============================] - 0s 32us/step - loss: 0.0038 - acc: 0.9962\n",
      "Epoch 496/500\n",
      "787/787 [==============================] - 0s 32us/step - loss: 0.0038 - acc: 0.9962\n",
      "Epoch 497/500\n",
      "787/787 [==============================] - 0s 31us/step - loss: 0.0038 - acc: 0.9962\n",
      "Epoch 498/500\n",
      "787/787 [==============================] - 0s 34us/step - loss: 0.0038 - acc: 0.9962\n",
      "Epoch 499/500\n",
      "787/787 [==============================] - 0s 31us/step - loss: 0.0038 - acc: 0.9962\n",
      "Epoch 500/500\n",
      "787/787 [==============================] - 0s 34us/step - loss: 0.0044 - acc: 0.9949\n",
      "197/197 [==============================] - 0s 231us/step\n",
      "nn accuracy =  0.9289340101522843\n"
     ]
    }
   ],
   "source": [
    "model_nn = Sequential()\n",
    "model_nn.add(Dense(30, input_dim=18, activation='relu'))\n",
    "model_nn.add(Dense(60, activation='relu'))\n",
    "model_nn.add(Dropout(0.2))\n",
    "model_nn.add(Dense(10, activation='relu'))\n",
    "model_nn.add(Dense(1, activation='relu'))\n",
    "\n",
    "model_nn.compile(loss='mse', optimizer='adam', metrics=['accuracy'])\n",
    "model_nn.fit(X_train, y_train, epochs=500, batch_size=32)\n",
    "scores_nn = model_nn.evaluate(X_test, y_test)\n",
    "print('nn accuracy = ', scores_nn[1])"
   ]
  },
  {
   "cell_type": "markdown",
   "metadata": {},
   "source": [
    "# Use Grid Search to Find Optimal Hyperparameters"
   ]
  },
  {
   "cell_type": "code",
   "execution_count": 28,
   "metadata": {},
   "outputs": [],
   "source": [
    "from sklearn.model_selection import GridSearchCV\n",
    "\n",
    "# helper function for printing out grid search results \n",
    "def print_grid_search_metrics(gs):\n",
    "    print (\"Best score: %0.3f\" % gs.best_score_)\n",
    "    print (\"Best parameters set:\")\n",
    "    best_parameters = gs.best_params_\n",
    "    for param_name in sorted(parameters.keys()):\n",
    "        print(\"\\t%s: %r\" % (param_name, best_parameters[param_name]))"
   ]
  },
  {
   "cell_type": "markdown",
   "metadata": {},
   "source": [
    "### Random Forest"
   ]
  },
  {
   "cell_type": "code",
   "execution_count": 29,
   "metadata": {},
   "outputs": [
    {
     "name": "stdout",
     "output_type": "stream",
     "text": [
      "Best score: 0.947\n",
      "Best parameters set:\n",
      "\tn_estimators: 40\n"
     ]
    }
   ],
   "source": [
    "parameters = {\n",
    "    'n_estimators' : [40,60,80]\n",
    "}\n",
    "Grid_RF = GridSearchCV(RandomForestClassifier(),parameters, cv=5)\n",
    "Grid_RF.fit(X_train, y_train)\n",
    "print_grid_search_metrics(Grid_RF)"
   ]
  },
  {
   "cell_type": "code",
   "execution_count": 30,
   "metadata": {},
   "outputs": [],
   "source": [
    "best_RF_model = Grid_RF.best_estimator_"
   ]
  },
  {
   "cell_type": "markdown",
   "metadata": {},
   "source": [
    "### Logistic Regression\n"
   ]
  },
  {
   "cell_type": "code",
   "execution_count": 31,
   "metadata": {},
   "outputs": [
    {
     "name": "stdout",
     "output_type": "stream",
     "text": [
      "Best score: 0.948\n",
      "Best parameters set:\n",
      "\tC: 0.1\n",
      "\tpenalty: 'l2'\n"
     ]
    }
   ],
   "source": [
    "parameters = {\n",
    "    'penalty' : ['l1','l2'], 'C':[0.1,1,10,100,1000]\n",
    "}\n",
    "Grid_LR = GridSearchCV(LogisticRegression(),parameters)\n",
    "Grid_LR.fit(X_train, y_train)\n",
    "print_grid_search_metrics(Grid_LR)"
   ]
  },
  {
   "cell_type": "code",
   "execution_count": 32,
   "metadata": {},
   "outputs": [],
   "source": [
    "best_LR_model = Grid_LR.best_estimator_"
   ]
  },
  {
   "cell_type": "markdown",
   "metadata": {},
   "source": [
    "### KNN"
   ]
  },
  {
   "cell_type": "code",
   "execution_count": 33,
   "metadata": {},
   "outputs": [
    {
     "name": "stdout",
     "output_type": "stream",
     "text": [
      "Best score: 0.940\n",
      "Best parameters set:\n",
      "\tn_neighbors: 5\n"
     ]
    }
   ],
   "source": [
    "parameters = {\n",
    "    'n_neighbors' : [3,5,8,10]\n",
    "}\n",
    "Grid_KNN = GridSearchCV(KNeighborsClassifier(),parameters)\n",
    "Grid_KNN.fit(X_train, y_train)\n",
    "print_grid_search_metrics(Grid_KNN)"
   ]
  },
  {
   "cell_type": "code",
   "execution_count": 34,
   "metadata": {},
   "outputs": [],
   "source": [
    "best_KNN_model = Grid_KNN.best_estimator_"
   ]
  },
  {
   "cell_type": "markdown",
   "metadata": {},
   "source": [
    "# Training Model for GUI Function"
   ]
  },
  {
   "cell_type": "markdown",
   "metadata": {},
   "source": [
    "### Random Forest"
   ]
  },
  {
   "cell_type": "code",
   "execution_count": 35,
   "metadata": {},
   "outputs": [],
   "source": [
    "def get_best_RF():\n",
    "    parameters = {'n_estimators' : [40,60,80]}\n",
    "    Grid_RF = GridSearchCV(RandomForestClassifier(),parameters, cv=5)\n",
    "    Grid_RF.fit(X_train, y_train)\n",
    "    best_RF_model = Grid_RF.best_estimator_\n",
    "    return best_RF_model"
   ]
  },
  {
   "cell_type": "markdown",
   "metadata": {},
   "source": [
    "### LogisticRegression\n"
   ]
  },
  {
   "cell_type": "code",
   "execution_count": 36,
   "metadata": {},
   "outputs": [],
   "source": [
    "def get_best_LG():\n",
    "    parameters = {\n",
    "        'penalty':('l1', 'l2'), \n",
    "        'C': (0.01,0.1, 1, 10, 100, 1000)\n",
    "    }\n",
    "    Grid_LR = GridSearchCV(LogisticRegression(),parameters, cv=5)\n",
    "    Grid_LR.fit(X_train, y_train)\n",
    "    best_LG_model = Grid_LR.best_estimator_"
   ]
  },
  {
   "cell_type": "markdown",
   "metadata": {},
   "source": [
    "### KNN"
   ]
  },
  {
   "cell_type": "code",
   "execution_count": 37,
   "metadata": {},
   "outputs": [],
   "source": [
    "def get_best_KNN():\n",
    "    parameters = {'n_neighbors' : [3,5,8,10] }\n",
    "    Grid_KNN = GridSearchCV(KNeighborsClassifier(),parameters)\n",
    "    Grid_KNN.fit(X_train, y_train)\n",
    "    best_KNN_model = Grid_KNN.best_estimator_\n",
    "    return best_KNN_model"
   ]
  },
  {
   "cell_type": "markdown",
   "metadata": {},
   "source": [
    "### NN"
   ]
  },
  {
   "cell_type": "code",
   "execution_count": 38,
   "metadata": {},
   "outputs": [],
   "source": [
    "def get_NN():\n",
    "    model_nn = Sequential()\n",
    "    model_nn.add(Dense(30, input_dim=18, activation='relu'))\n",
    "    model_nn.add(Dense(60, activation='relu'))\n",
    "    model_nn.add(Dropout(0.2))\n",
    "    model_nn.add(Dense(10, activation='relu'))\n",
    "    model_nn.add(Dense(1, activation='relu'))\n",
    "\n",
    "    model_nn.compile(loss='mse', optimizer='adam', metrics=['accuracy'])\n",
    "    model_nn.fit(X_train, y_train, epochs=500, batch_size=32)\n",
    "    return model_nn"
   ]
  },
  {
   "cell_type": "markdown",
   "metadata": {},
   "source": [
    "# Prediction for GUI Function"
   ]
  },
  {
   "cell_type": "code",
   "execution_count": 39,
   "metadata": {},
   "outputs": [],
   "source": [
    "def predict(model, i):\n",
    "    line = []\n",
    "    res = model.predict(present_data_X.iloc[i].as_matrix(columns=None).reshape(1,-1))\n",
    "    if res == 0:\n",
    "        line.append('This transaction is Non-fraud and ')\n",
    "    else:\n",
    "        line.append('This transaction is Fraud and ')\n",
    "    if present_data_y.iloc[i] == 0:\n",
    "        line.append('The truth is None-fraud')\n",
    "    else:\n",
    "        line.append('The truth is Fraud')\n",
    "    return str(line)"
   ]
  },
  {
   "cell_type": "code",
   "execution_count": 40,
   "metadata": {},
   "outputs": [],
   "source": [
    "def show_data(i):\n",
    "    return str(present_data.iloc[i])"
   ]
  },
  {
   "cell_type": "markdown",
   "metadata": {},
   "source": [
    "# Model Evaluation - Confusion Matrix (Precision, Recall, Accuracy)"
   ]
  },
  {
   "cell_type": "code",
   "execution_count": 41,
   "metadata": {},
   "outputs": [],
   "source": [
    "from sklearn.metrics import confusion_matrix\n",
    "import itertools\n",
    "\n",
    "y_pred_KNN = best_KNN_model.predict(X_test)\n",
    "y_pred_LR = best_LR_model.predict(X_test)\n",
    "y_pred_RF = best_RF_model.predict(X_test)\n",
    "\n",
    "\n",
    "\n",
    "KNN_cm = confusion_matrix(y_test, y_pred_KNN)\n",
    "LR_cm = confusion_matrix(y_test, y_pred_LR)\n",
    "RF_cm = confusion_matrix(y_test, y_pred_RF)\n"
   ]
  },
  {
   "cell_type": "code",
   "execution_count": 95,
   "metadata": {},
   "outputs": [],
   "source": [
    "# calculate accuracy, precision and recall\n",
    "def cal_evaluation(classifier, cm):\n",
    "    tn = cm[0][0]\n",
    "    fp = cm[0][1]\n",
    "    fn = cm[1][0]\n",
    "    tp = cm[1][1]\n",
    "    accuracy  = (tp + tn) / (tp + fp + fn + tn + 0.0)\n",
    "    precision = tp / (tp + fp + 0.0)\n",
    "    recall = tp / (tp + fn + 0.0)\n",
    "    print (classifier)\n",
    "    print (\"Accuracy is: %0.3f\" % accuracy)\n",
    "    print (\"precision is: %0.3f\" % precision)\n",
    "    print (\"recall is: %0.3f\" % recall)\n",
    "\n",
    "# print out confusion matrices\n",
    "def draw_confusion_matrices(confusion_matricies):\n",
    "    class_names = ['Not','Fraud']\n",
    "    for cm in confusion_matrices:\n",
    "        classifier, cm = cm[0], cm[1]\n",
    "        cal_evaluation(classifier, cm)\n",
    "        fig = plt.figure()\n",
    "        ax = fig.add_subplot(111)\n",
    "        cax = ax.matshow(cm, interpolation='nearest',cmap=plt.cm.YlOrRd)\n",
    "        plt.title('Confusion matrix for %s' % classifier)\n",
    "        fig.colorbar(cax)\n",
    "        thresh = cm.max() / 2\n",
    "        for i, j in itertools.product(range(cm.shape[0]), range(cm.shape[1])):\n",
    "            plt.text(j, i, cm[i, j],\n",
    "                 horizontalalignment=\"center\",\n",
    "                 color=\"white\" if cm[i, j] > thresh else \"red\")\n",
    "        ax.set_xticklabels([''] + class_names)\n",
    "        ax.set_yticklabels([''] + class_names)\n",
    "        plt.xlabel('Predicted')\n",
    "        plt.ylabel('True')\n",
    "        plt.show()"
   ]
  },
  {
   "cell_type": "code",
   "execution_count": 96,
   "metadata": {},
   "outputs": [
    {
     "name": "stdout",
     "output_type": "stream",
     "text": [
      "KNN\n",
      "Accuracy is: 0.929\n",
      "precision is: 0.989\n",
      "recall is: 0.871\n"
     ]
    },
    {
     "data": {
      "image/png": "[encoded data removed]",
      "text/plain": [
       "<Figure size 432x288 with 2 Axes>"
      ]
     },
     "metadata": {
      "needs_background": "light"
     },
     "output_type": "display_data"
    },
    {
     "name": "stdout",
     "output_type": "stream",
     "text": [
      "Random Forest\n",
      "Accuracy is: 0.929\n",
      "precision is: 0.989\n",
      "recall is: 0.871\n"
     ]
    },
    {
     "data": {
      "image/png": "[encoded data removed]",
      "text/plain": [
       "<Figure size 432x288 with 2 Axes>"
      ]
     },
     "metadata": {
      "needs_background": "light"
     },
     "output_type": "display_data"
    },
    {
     "name": "stdout",
     "output_type": "stream",
     "text": [
      "Logistic Regression\n",
      "Accuracy is: 0.944\n",
      "precision is: 0.979\n",
      "recall is: 0.911\n"
     ]
    },
    {
     "data": {
      "image/png": "[encoded data removed]",
      "text/plain": [
       "<Figure size 432x288 with 2 Axes>"
      ]
     },
     "metadata": {
      "needs_background": "light"
     },
     "output_type": "display_data"
    }
   ],
   "source": [
    "confusion_matrices = [\n",
    "    (\"KNN\", KNN_cm),\n",
    "    (\"Random Forest\", RF_cm),\n",
    "    ('Logistic Regression', LR_cm)\n",
    "]\n",
    "\n",
    "draw_confusion_matrices(confusion_matrices)"
   ]
  },
  {
   "cell_type": "markdown",
   "metadata": {},
   "source": [
    "# Model Evaluation - ROC & AUC"
   ]
  },
  {
   "cell_type": "markdown",
   "metadata": {},
   "source": [
    "### Random Forest"
   ]
  },
  {
   "cell_type": "code",
   "execution_count": 44,
   "metadata": {},
   "outputs": [],
   "source": [
    "from sklearn.metrics import roc_curve\n",
    "from sklearn import metrics\n",
    "\n",
    "# Use predict_proba to get the probability results of Random Forest\n",
    "y_pred_rf = best_RF_model.predict_proba(X_test)[:, 1]\n",
    "fpr_rf, tpr_rf, _ = roc_curve(y_test, y_pred_rf)"
   ]
  },
  {
   "cell_type": "code",
   "execution_count": 45,
   "metadata": {},
   "outputs": [
    {
     "data": {
      "image/png": "[encoded data removed]",
      "text/plain": [
       "<Figure size 432x288 with 1 Axes>"
      ]
     },
     "metadata": {
      "needs_background": "light"
     },
     "output_type": "display_data"
    }
   ],
   "source": [
    "# ROC curve of Random Forest result\n",
    "plt.figure(1)\n",
    "plt.plot([0, 1], [0, 1], 'k--')\n",
    "plt.plot(fpr_rf, tpr_rf, label='RF')\n",
    "plt.xlabel('False positive rate')\n",
    "plt.ylabel('True positive rate')\n",
    "plt.title('ROC curve - RF model')\n",
    "plt.legend(loc='best')\n",
    "plt.show()"
   ]
  },
  {
   "cell_type": "code",
   "execution_count": 46,
   "metadata": {},
   "outputs": [
    {
     "data": {
      "text/plain": [
       "0.9872112211221122"
      ]
     },
     "execution_count": 46,
     "metadata": {},
     "output_type": "execute_result"
    }
   ],
   "source": [
    "from sklearn import metrics\n",
    "\n",
    "# AUC score\n",
    "metrics.auc(fpr_rf,tpr_rf)"
   ]
  },
  {
   "cell_type": "markdown",
   "metadata": {},
   "source": [
    "### Logistic Regression"
   ]
  },
  {
   "cell_type": "code",
   "execution_count": 47,
   "metadata": {},
   "outputs": [],
   "source": [
    "# Use predict_proba to get the probability results of Logistic Regression\n",
    "y_pred_lr = best_LR_model.predict_proba(X_test)[:, 1]\n",
    "fpr_lr, tpr_lr, _ = roc_curve(y_test, y_pred_lr)"
   ]
  },
  {
   "cell_type": "code",
   "execution_count": 48,
   "metadata": {},
   "outputs": [
    {
     "data": {
      "image/png": "[encoded data removed]",
      "text/plain": [
       "<Figure size 432x288 with 1 Axes>"
      ]
     },
     "metadata": {
      "needs_background": "light"
     },
     "output_type": "display_data"
    }
   ],
   "source": [
    "# ROC Curve\n",
    "plt.figure(1)\n",
    "plt.plot([0, 1], [0, 1], 'k--')\n",
    "plt.plot(fpr_lr, tpr_lr, label='LR')\n",
    "plt.xlabel('False positive rate')\n",
    "plt.ylabel('True positive rate')\n",
    "plt.title('ROC curve - LR Model')\n",
    "plt.legend(loc='best')\n",
    "plt.show()"
   ]
  },
  {
   "cell_type": "code",
   "execution_count": 49,
   "metadata": {},
   "outputs": [
    {
     "data": {
      "text/plain": [
       "0.9760726072607261"
      ]
     },
     "execution_count": 49,
     "metadata": {},
     "output_type": "execute_result"
    }
   ],
   "source": [
    "# AUC score\n",
    "metrics.auc(fpr_lr,tpr_lr)"
   ]
  },
  {
   "cell_type": "markdown",
   "metadata": {},
   "source": [
    "### KNN"
   ]
  },
  {
   "cell_type": "code",
   "execution_count": 50,
   "metadata": {},
   "outputs": [],
   "source": [
    "# Use predict_proba to get the probability results of KNN\n",
    "y_pred_knn = best_KNN_model.predict_proba(X_test)[:, 1]\n",
    "fpr_knn, tpr_knn, _ = roc_curve(y_test, y_pred_knn)"
   ]
  },
  {
   "cell_type": "code",
   "execution_count": 51,
   "metadata": {},
   "outputs": [
    {
     "data": {
      "image/png": "[encoded data removed]",
      "text/plain": [
       "<Figure size 432x288 with 1 Axes>"
      ]
     },
     "metadata": {
      "needs_background": "light"
     },
     "output_type": "display_data"
    }
   ],
   "source": [
    "# ROC Curve\n",
    "plt.figure(1)\n",
    "plt.plot([0, 1], [0, 1], 'k--')\n",
    "plt.plot(fpr_knn, tpr_knn, label='KNN')\n",
    "plt.xlabel('False positive rate')\n",
    "plt.ylabel('True positive rate')\n",
    "plt.title('ROC curve - KNN Model')\n",
    "plt.legend(loc='best')\n",
    "plt.show()"
   ]
  },
  {
   "cell_type": "code",
   "execution_count": 52,
   "metadata": {},
   "outputs": [
    {
     "data": {
      "text/plain": [
       "0.9760726072607261"
      ]
     },
     "execution_count": 52,
     "metadata": {},
     "output_type": "execute_result"
    }
   ],
   "source": [
    "# AUC score\n",
    "metrics.auc(fpr_lr,tpr_lr)"
   ]
  },
  {
   "cell_type": "markdown",
   "metadata": {},
   "source": [
    "### Feature Importance Discussion"
   ]
  },
  {
   "cell_type": "code",
   "execution_count": 53,
   "metadata": {},
   "outputs": [
    {
     "name": "stdout",
     "output_type": "stream",
     "text": [
      "Feature importance ranking by Random Forest Model:\n",
      "V12: 0.2135\n",
      "V14: 0.1966\n",
      "V17: 0.1542\n",
      "V4: 0.1268\n",
      "V11: 0.0801\n",
      "V2: 0.0556\n",
      "V10: 0.0236\n",
      "V19: 0.0203\n",
      "V3: 0.0179\n",
      "V1: 0.0175\n",
      "Amount: 0.0175\n",
      "V7: 0.0155\n",
      "Time: 0.0141\n",
      "V6: 0.0135\n",
      "V9: 0.0113\n",
      "V5: 0.0083\n",
      "V16: 0.0071\n",
      "V18: 0.0065\n"
     ]
    }
   ],
   "source": [
    "# check feature importance of random forest for feature selection\n",
    "forest = RandomForestClassifier()\n",
    "forest.fit(X, y)\n",
    "\n",
    "importances = forest.feature_importances_\n",
    "\n",
    "# Print the feature ranking\n",
    "print(\"Feature importance ranking by Random Forest Model:\")\n",
    "for k,v in sorted(zip(map(lambda x: round(x, 4), importances), X.columns), reverse=True):\n",
    "    print (v + \": \" + str(k))"
   ]
  },
  {
   "cell_type": "markdown",
   "metadata": {},
   "source": [
    "# Using the oversampling data to make the predict"
   ]
  },
  {
   "cell_type": "code",
   "execution_count": 55,
   "metadata": {},
   "outputs": [],
   "source": [
    "over_sampling_df = pd.read_csv('creditcard.csv', encoding='latin-1') # loading the data"
   ]
  },
  {
   "cell_type": "code",
   "execution_count": 57,
   "metadata": {},
   "outputs": [],
   "source": [
    "over_sampling = over_sampling_df.drop(droplist, axis = 1) # 删除droplist中的列"
   ]
  },
  {
   "cell_type": "code",
   "execution_count": 58,
   "metadata": {},
   "outputs": [],
   "source": [
    "col = ['Amount','Time']\n",
    "\n",
    "sc =StandardScaler() # Initialize the scaler\n",
    "over_sampling[col] =sc.fit_transform(over_sampling[col])#standardize the data"
   ]
  },
  {
   "cell_type": "code",
   "execution_count": 73,
   "metadata": {},
   "outputs": [],
   "source": [
    "# separate X and Y\n",
    "\n",
    "\n",
    "X = over_sampling.iloc[:, :-1]\n",
    "y = over_sampling[\"Class\"]\n"
   ]
  },
  {
   "cell_type": "code",
   "execution_count": 75,
   "metadata": {},
   "outputs": [
    {
     "data": {
      "text/plain": [
       "(284807, 18)"
      ]
     },
     "execution_count": 75,
     "metadata": {},
     "output_type": "execute_result"
    }
   ],
   "source": [
    "X.shape"
   ]
  },
  {
   "cell_type": "code",
   "execution_count": 76,
   "metadata": {},
   "outputs": [],
   "source": [
    "sm = SMOTE(random_state=42)    # deal with over-sampling\n",
    "X, y = sm.fit_sample(X, y)"
   ]
  },
  {
   "cell_type": "code",
   "execution_count": 84,
   "metadata": {},
   "outputs": [
    {
     "data": {
      "text/plain": [
       "0.9492710549918224"
      ]
     },
     "execution_count": 84,
     "metadata": {},
     "output_type": "execute_result"
    }
   ],
   "source": [
    "# Prediction of test data\n",
    "best_RF_model.predict(X)\n",
    "# Accuracy of test data\n",
    "best_RF_model.score(X, y)"
   ]
  },
  {
   "cell_type": "code",
   "execution_count": 85,
   "metadata": {},
   "outputs": [
    {
     "data": {
      "text/plain": [
       "0.9380581397393736"
      ]
     },
     "execution_count": 85,
     "metadata": {},
     "output_type": "execute_result"
    }
   ],
   "source": [
    "# Prediction of test data\n",
    "best_LR_model.predict(X)\n",
    "# Accuracy of test data\n",
    "best_LR_model.score(X, y)"
   ]
  },
  {
   "cell_type": "code",
   "execution_count": 86,
   "metadata": {},
   "outputs": [
    {
     "data": {
      "text/plain": [
       "0.9464045161176864"
      ]
     },
     "execution_count": 86,
     "metadata": {},
     "output_type": "execute_result"
    }
   ],
   "source": [
    "# Prediction of test data\n",
    "best_KNN_model.predict(X)\n",
    "# Accuracy of test data\n",
    "best_KNN_model.score(X, y)"
   ]
  },
  {
   "cell_type": "code",
   "execution_count": 87,
   "metadata": {},
   "outputs": [
    {
     "name": "stdout",
     "output_type": "stream",
     "text": [
      "Model accuracy of Logistic Regression is: 0.930\n",
      "Model accuracy of KNN is: 0.997\n",
      "Model accuracy of Random Forest is: 0.821\n"
     ]
    }
   ],
   "source": [
    "model_names = ['Logistic Regression','KNN','Random Forest']\n",
    "model_list = [best_LR_model, best_KNN_model, best_RF_model]\n",
    "count = 0\n",
    "\n",
    "for classifier in model_list:\n",
    "    cv_score = model_selection.cross_val_score(classifier, X, y, cv=5)\n",
    "    # cprint(cv_score)\n",
    "    print('Model accuracy of %s is: %.3f'%(model_names[count],cv_score.mean()))\n",
    "    count += 1"
   ]
  },
  {
   "cell_type": "code",
   "execution_count": 88,
   "metadata": {},
   "outputs": [
    {
     "name": "stdout",
     "output_type": "stream",
     "text": [
      "568630/568630 [==============================] - 5s 9us/step\n",
      "nn accuracy =  0.9595519054563466\n"
     ]
    }
   ],
   "source": [
    "scores_nn = model_nn.evaluate(X, y)\n",
    "print('nn accuracy = ', scores_nn[1])"
   ]
  },
  {
   "cell_type": "code",
   "execution_count": null,
   "metadata": {},
   "outputs": [],
   "source": []
  }
 ],
 "metadata": {
  "kernelspec": {
   "display_name": "Python 3",
   "language": "python",
   "name": "python3"
  },
  "language_info": {
   "codemirror_mode": {
    "name": "ipython",
    "version": 3
   },
   "file_extension": ".py",
   "mimetype": "text/x-python",
   "name": "python",
   "nbconvert_exporter": "python",
   "pygments_lexer": "ipython3",
   "version": "3.7.1"
  }
 },
 "nbformat": 4,
 "nbformat_minor": 2
}
